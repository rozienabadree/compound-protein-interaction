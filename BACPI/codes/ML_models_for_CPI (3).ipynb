{
  "cells": [
    {
      "cell_type": "markdown",
      "metadata": {
        "id": "dIRqTUTG9ZnL"
      },
      "source": [
        "# Part 1: prepare the development environment"
      ]
    },
    {
      "cell_type": "code",
      "execution_count": 1,
      "metadata": {
        "colab": {
          "base_uri": "https://localhost:8080/"
        },
        "id": "MxlfZWeP9NN-",
        "outputId": "7542c6a4-4d46-489a-9227-5b6d147b76c1"
      },
      "outputs": [
        {
          "output_type": "stream",
          "name": "stdout",
          "text": [
            "Looking in indexes: https://pypi.org/simple, https://us-python.pkg.dev/colab-wheels/public/simple/\n",
            "Collecting rdkit\n",
            "  Downloading rdkit-2023.3.1-cp310-cp310-manylinux_2_17_x86_64.manylinux2014_x86_64.whl (29.7 MB)\n",
            "\u001b[2K     \u001b[90m━━━━━━━━━━━━━━━━━━━━━━━━━━━━━━━━━━━━━━━━\u001b[0m \u001b[32m29.7/29.7 MB\u001b[0m \u001b[31m38.5 MB/s\u001b[0m eta \u001b[36m0:00:00\u001b[0m\n",
            "\u001b[?25hRequirement already satisfied: Pillow in /usr/local/lib/python3.10/dist-packages (from rdkit) (8.4.0)\n",
            "Requirement already satisfied: numpy in /usr/local/lib/python3.10/dist-packages (from rdkit) (1.22.4)\n",
            "Installing collected packages: rdkit\n",
            "Successfully installed rdkit-2023.3.1\n",
            "Looking in indexes: https://pypi.org/simple, https://us-python.pkg.dev/colab-wheels/public/simple/\n",
            "Collecting transformers\n",
            "  Downloading transformers-4.28.1-py3-none-any.whl (7.0 MB)\n",
            "\u001b[2K     \u001b[90m━━━━━━━━━━━━━━━━━━━━━━━━━━━━━━━━━━━━━━━━\u001b[0m \u001b[32m7.0/7.0 MB\u001b[0m \u001b[31m29.1 MB/s\u001b[0m eta \u001b[36m0:00:00\u001b[0m\n",
            "\u001b[?25hCollecting tokenizers!=0.11.3,<0.14,>=0.11.1\n",
            "  Downloading tokenizers-0.13.3-cp310-cp310-manylinux_2_17_x86_64.manylinux2014_x86_64.whl (7.8 MB)\n",
            "\u001b[2K     \u001b[90m━━━━━━━━━━━━━━━━━━━━━━━━━━━━━━━━━━━━━━━━\u001b[0m \u001b[32m7.8/7.8 MB\u001b[0m \u001b[31m59.8 MB/s\u001b[0m eta \u001b[36m0:00:00\u001b[0m\n",
            "\u001b[?25hRequirement already satisfied: pyyaml>=5.1 in /usr/local/lib/python3.10/dist-packages (from transformers) (6.0)\n",
            "Collecting huggingface-hub<1.0,>=0.11.0\n",
            "  Downloading huggingface_hub-0.14.1-py3-none-any.whl (224 kB)\n",
            "\u001b[2K     \u001b[90m━━━━━━━━━━━━━━━━━━━━━━━━━━━━━━━━━━━━━━\u001b[0m \u001b[32m224.5/224.5 kB\u001b[0m \u001b[31m22.1 MB/s\u001b[0m eta \u001b[36m0:00:00\u001b[0m\n",
            "\u001b[?25hRequirement already satisfied: requests in /usr/local/lib/python3.10/dist-packages (from transformers) (2.27.1)\n",
            "Requirement already satisfied: filelock in /usr/local/lib/python3.10/dist-packages (from transformers) (3.12.0)\n",
            "Requirement already satisfied: packaging>=20.0 in /usr/local/lib/python3.10/dist-packages (from transformers) (23.1)\n",
            "Requirement already satisfied: tqdm>=4.27 in /usr/local/lib/python3.10/dist-packages (from transformers) (4.65.0)\n",
            "Requirement already satisfied: numpy>=1.17 in /usr/local/lib/python3.10/dist-packages (from transformers) (1.22.4)\n",
            "Requirement already satisfied: regex!=2019.12.17 in /usr/local/lib/python3.10/dist-packages (from transformers) (2022.10.31)\n",
            "Requirement already satisfied: typing-extensions>=3.7.4.3 in /usr/local/lib/python3.10/dist-packages (from huggingface-hub<1.0,>=0.11.0->transformers) (4.5.0)\n",
            "Requirement already satisfied: fsspec in /usr/local/lib/python3.10/dist-packages (from huggingface-hub<1.0,>=0.11.0->transformers) (2023.4.0)\n",
            "Requirement already satisfied: certifi>=2017.4.17 in /usr/local/lib/python3.10/dist-packages (from requests->transformers) (2022.12.7)\n",
            "Requirement already satisfied: idna<4,>=2.5 in /usr/local/lib/python3.10/dist-packages (from requests->transformers) (3.4)\n",
            "Requirement already satisfied: charset-normalizer~=2.0.0 in /usr/local/lib/python3.10/dist-packages (from requests->transformers) (2.0.12)\n",
            "Requirement already satisfied: urllib3<1.27,>=1.21.1 in /usr/local/lib/python3.10/dist-packages (from requests->transformers) (1.26.15)\n",
            "Installing collected packages: tokenizers, huggingface-hub, transformers\n",
            "Successfully installed huggingface-hub-0.14.1 tokenizers-0.13.3 transformers-4.28.1\n"
          ]
        }
      ],
      "source": [
        "! pip install rdkit\n",
        "! pip install transformers"
      ]
    },
    {
      "cell_type": "code",
      "execution_count": 2,
      "metadata": {
        "colab": {
          "base_uri": "https://localhost:8080/"
        },
        "id": "5C-_deVA9jmV",
        "outputId": "47235a84-702d-40c3-f368-8b95cb500b81"
      },
      "outputs": [
        {
          "output_type": "stream",
          "name": "stdout",
          "text": [
            "/content/drive/MyDrive/Colab Notebooks/BACPI-master/data\n",
            "test_celegans.csv  test_IC50.csv  train_celegans.csv  train_IC50.csv\n",
            "test_EC50.csv\t   test_Kd.csv\t  train_EC50.csv      train_Kd.csv\n",
            "test_human.csv\t   test_Ki.csv\t  train_human.csv     train_Ki.csv\n"
          ]
        }
      ],
      "source": [
        "%cd drive/MyDrive/Colab\\ Notebooks/BACPI-master/data\n",
        "! ls"
      ]
    },
    {
      "cell_type": "markdown",
      "metadata": {
        "id": "__plEbTx-swt"
      },
      "source": [
        "# Part 2: tokenization the datasets"
      ]
    },
    {
      "cell_type": "code",
      "execution_count": 3,
      "metadata": {
        "id": "iDfi2lrJ_YFi"
      },
      "outputs": [],
      "source": [
        "import pandas as pd\n",
        "import numpy as np\n",
        "from rdkit import Chem\n",
        "from rdkit.Chem import AllChem\n",
        "from IPython.core.pylabtools import figsize\n",
        "import matplotlib.pyplot as plt\n",
        "import matplotlib\n",
        "%matplotlib inline\n",
        "from sklearn.naive_bayes import GaussianNB, MultinomialNB\n",
        "from sklearn import linear_model, metrics\n",
        "import math\n",
        "from sklearn.linear_model import LinearRegression, Ridge, Lasso, ElasticNet, SGDRegressor, LogisticRegression, Perceptron\n",
        "from sklearn.ensemble import RandomForestRegressor, ExtraTreesRegressor, GradientBoostingRegressor\n",
        "from sklearn.svm import SVR\n",
        "from sklearn.neural_network import MLPClassifier,MLPRegressor\n",
        "from sklearn.neighbors import KNeighborsClassifier\n",
        "from sklearn.model_selection import train_test_split,GridSearchCV, cross_val_score, cross_val_predict\n",
        "from sklearn.metrics import confusion_matrix, precision_score, recall_score, f1_score, roc_curve, roc_auc_score\n",
        "from sklearn.metrics import precision_recall_curve, classification_report, mean_squared_error, r2_score\n",
        "import warnings\n",
        "\n",
        "from sklearn.preprocessing import StandardScaler, PolynomialFeatures"
      ]
    },
    {
      "cell_type": "code",
      "execution_count": 4,
      "metadata": {
        "id": "_69J7lbb-x0C"
      },
      "outputs": [],
      "source": [
        "def token(data):\n",
        "  model_checkpoint = \"facebook/esm2_t12_35M_UR50D\"\n",
        "  from transformers import AutoTokenizer\n",
        "  tokenizer = AutoTokenizer.from_pretrained(model_checkpoint)\n",
        "  y=data.iloc[:, -1]\n",
        "  print(\"labels:\", y.shape)\n",
        "# before alignment\n",
        "  fingerprint = []\n",
        "  adjacency = []\n",
        "  sequence = []\n",
        "  for i in range(len(data)):\n",
        "    compound, protein, interaction = data.iloc[i, :]\n",
        "\n",
        "    mol = Chem.AddHs(Chem.MolFromSmiles(compound))\n",
        "    adjacency.append( np.array(Chem.GetAdjacencyMatrix(mol)).flatten())\n",
        "    fingerprint.append(np.array([int(i) for i in AllChem.GetMorganFingerprintAsBitVect(mol, 2, nBits=1024, useChirality=True).ToBitString()]))\n",
        "    sequence.append( np.array(tokenizer(protein,padding='max_length')['input_ids']))\n",
        "# alignments\n",
        "  adjacency =pd.DataFrame(adjacency)\n",
        "  adjacency= adjacency.fillna(0)\n",
        "\n",
        "  sequence =pd.DataFrame(sequence)\n",
        "  sequence= sequence.fillna(0)\n",
        "# after alignments, combine different parts of data\n",
        "  fingerprint=pd.DataFrame(fingerprint)\n",
        "  X = pd.concat([fingerprint, adjacency,sequence], axis=1)\n",
        "  print(\"dataset:\", X.shape)\n",
        "  return X, y"
      ]
    },
    {
      "cell_type": "code",
      "source": [
        "def token_simple(data):\n",
        "  model_checkpoint = \"facebook/esm2_t12_35M_UR50D\"\n",
        "  from transformers import AutoTokenizer\n",
        "  tokenizer = AutoTokenizer.from_pretrained(model_checkpoint)\n",
        "  y=data.iloc[:, -1]\n",
        "  print(\"labels:\", y.shape)\n",
        "# before alignment\n",
        "  fingerprint = []\n",
        "  sequence = []\n",
        "  for i in range(len(data)):\n",
        "    compound, protein, interaction = data.iloc[i, :]\n",
        "\n",
        "    mol = Chem.AddHs(Chem.MolFromSmiles(compound))\n",
        "    fingerprint.append(np.array([int(i) for i in AllChem.GetMorganFingerprintAsBitVect(mol, 2, nBits=1024, useChirality=True).ToBitString()]))\n",
        "    sequence.append( np.array(tokenizer(protein,padding='max_length')['input_ids']))\n",
        "# alignments\n",
        "  sequence =pd.DataFrame(sequence)\n",
        "  sequence= sequence.fillna(0)\n",
        "# after alignments, combine different parts of data\n",
        "  fingerprint=pd.DataFrame(fingerprint)\n",
        "  X = pd.concat([fingerprint, sequence], axis=1)\n",
        "  print(\"dataset:\", X.shape)\n",
        "  print(\"Number of positive/negative labels:\", y.value_counts())\n",
        "  return X, y"
      ],
      "metadata": {
        "id": "FHE_KnZFLMmn"
      },
      "execution_count": 5,
      "outputs": []
    },
    {
      "cell_type": "code",
      "source": [
        "def token_poly(data):\n",
        "  y=data.iloc[:, -1]\n",
        "  print(\"labels:\", y.shape)\n",
        "  fingerprint = []\n",
        "  for i in range(len(data)):\n",
        "    compound, protein, interaction = data.iloc[i, :]\n",
        "    mol = Chem.AddHs(Chem.MolFromSmiles(compound))\n",
        "    fingerprint.append(np.array([int(i) for i in AllChem.GetMorganFingerprintAsBitVect(mol, 2, nBits=64, useChirality=True).ToBitString()]))\n",
        "# after alignments\n",
        "  X=pd.DataFrame(fingerprint)\n",
        "  print(\"dataset:\", X.shape)\n",
        "  return X, y"
      ],
      "metadata": {
        "id": "Z3yLg5rmhonI"
      },
      "execution_count": 6,
      "outputs": []
    },
    {
      "cell_type": "markdown",
      "source": [
        "### Future Work"
      ],
      "metadata": {
        "id": "HBlOJuTf6V9z"
      }
    },
    {
      "cell_type": "code",
      "source": [
        "# apply different protein tokenization from different models\n",
        "ESM_models = ['facebook/esm2_t48_15B_UR50D', 'facebook/esm2_t36_3B_UR50D', 'facebook/esm2_t33_650M_UR50D', 'facebook/esm2_t30_150M_UR50D', 'facebook/esm2_t12_35M_UR50D', 'facebook/esm2_t6_8M_UR50D']\n",
        "\n"
      ],
      "metadata": {
        "id": "3PBWHxNX6ZkW"
      },
      "execution_count": 7,
      "outputs": []
    },
    {
      "cell_type": "code",
      "source": [
        "# apply different fingerprint algorithms for compound \n",
        "fpgen1 = AllChem.GetRDKitFPGenerator()\n",
        "fpgen2 = AllChem.GetAtomPairGenerator()\n",
        "fpgen3 = AllChem.GetMorganGenerator(radius=2)"
      ],
      "metadata": {
        "id": "LxfUTZl78XTw"
      },
      "execution_count": 8,
      "outputs": []
    },
    {
      "cell_type": "code",
      "source": [
        "# fairness: with dif\u0002ferent ratios of positive and negative samples for CPIs prediction.\n",
        "#dataset_0 = dataset.['interaction' = 0][0:1000]\n",
        "#dataset_1 = dataset.['interaction' = 1][0:1000]\n"
      ],
      "metadata": {
        "id": "FZchc7RNrF-x"
      },
      "execution_count": 9,
      "outputs": []
    },
    {
      "cell_type": "markdown",
      "metadata": {
        "id": "rnc_SpKG9vvc"
      },
      "source": [
        "#  Part 3: Supervised Regression Models Comparison"
      ]
    },
    {
      "cell_type": "markdown",
      "source": [
        "### 3.1 Regression models"
      ],
      "metadata": {
        "id": "WdYbslJanHRB"
      }
    },
    {
      "cell_type": "code",
      "execution_count": null,
      "metadata": {
        "colab": {
          "base_uri": "https://localhost:8080/",
          "height": 403
        },
        "id": "3Hks4_EPrGHp",
        "outputId": "b0cb7632-69ba-4d9c-e8de-ccdb846a905d"
      },
      "outputs": [
        {
          "name": "stderr",
          "output_type": "stream",
          "text": [
            "/usr/local/lib/python3.10/dist-packages/sklearn/ensemble/_forest.py:413: FutureWarning: `max_features='auto'` has been deprecated in 1.1 and will be removed in 1.3. To keep the past behaviour, explicitly set `max_features=1.0` or remove this parameter as it is also the default value for RandomForestRegressors and ExtraTreesRegressors.\n",
            "  warn(\n",
            "[Parallel(n_jobs=-1)]: Using backend ThreadingBackend with 2 concurrent workers.\n",
            "[Parallel(n_jobs=-1)]: Done  46 tasks      | elapsed:  6.5min\n",
            "[Parallel(n_jobs=-1)]: Done 196 tasks      | elapsed: 28.5min\n",
            "[Parallel(n_jobs=-1)]: Done 446 tasks      | elapsed: 64.0min\n",
            "[Parallel(n_jobs=-1)]: Done 500 out of 500 | elapsed: 71.6min finished\n",
            "[Parallel(n_jobs=2)]: Using backend ThreadingBackend with 2 concurrent workers.\n",
            "[Parallel(n_jobs=2)]: Done  46 tasks      | elapsed:    0.1s\n",
            "[Parallel(n_jobs=2)]: Done 196 tasks      | elapsed:    0.2s\n",
            "[Parallel(n_jobs=2)]: Done 446 tasks      | elapsed:    0.5s\n",
            "[Parallel(n_jobs=2)]: Done 500 out of 500 | elapsed:    0.5s finished\n"
          ]
        },
        {
          "data": {
            "text/html": [
              "\n",
              "  <div id=\"df-16a47332-738e-4136-8dbc-8a169a6cd5c5\">\n",
              "    <div class=\"colab-df-container\">\n",
              "      <div>\n",
              "<style scoped>\n",
              "    .dataframe tbody tr th:only-of-type {\n",
              "        vertical-align: middle;\n",
              "    }\n",
              "\n",
              "    .dataframe tbody tr th {\n",
              "        vertical-align: top;\n",
              "    }\n",
              "\n",
              "    .dataframe thead th {\n",
              "        text-align: right;\n",
              "    }\n",
              "</style>\n",
              "<table border=\"1\" class=\"dataframe\">\n",
              "  <thead>\n",
              "    <tr style=\"text-align: right;\">\n",
              "      <th></th>\n",
              "      <th>Model</th>\n",
              "      <th>RMSE (test)</th>\n",
              "      <th>R2 Score (test)</th>\n",
              "    </tr>\n",
              "  </thead>\n",
              "  <tbody>\n",
              "    <tr>\n",
              "      <th>0</th>\n",
              "      <td>Ridge Linear Regression</td>\n",
              "      <td>1.830069</td>\n",
              "      <td>-0.437093</td>\n",
              "    </tr>\n",
              "    <tr>\n",
              "      <th>1</th>\n",
              "      <td>Lasso Linear Regression</td>\n",
              "      <td>0.997807</td>\n",
              "      <td>0.572788</td>\n",
              "    </tr>\n",
              "    <tr>\n",
              "      <th>2</th>\n",
              "      <td>Support Vector Machine (Gaussian RBF)</td>\n",
              "      <td>1.509745</td>\n",
              "      <td>0.021959</td>\n",
              "    </tr>\n",
              "    <tr>\n",
              "      <th>3</th>\n",
              "      <td>Random Forest</td>\n",
              "      <td>0.809080</td>\n",
              "      <td>0.719112</td>\n",
              "    </tr>\n",
              "  </tbody>\n",
              "</table>\n",
              "</div>\n",
              "      <button class=\"colab-df-convert\" onclick=\"convertToInteractive('df-16a47332-738e-4136-8dbc-8a169a6cd5c5')\"\n",
              "              title=\"Convert this dataframe to an interactive table.\"\n",
              "              style=\"display:none;\">\n",
              "        \n",
              "  <svg xmlns=\"http://www.w3.org/2000/svg\" height=\"24px\"viewBox=\"0 0 24 24\"\n",
              "       width=\"24px\">\n",
              "    <path d=\"M0 0h24v24H0V0z\" fill=\"none\"/>\n",
              "    <path d=\"M18.56 5.44l.94 2.06.94-2.06 2.06-.94-2.06-.94-.94-2.06-.94 2.06-2.06.94zm-11 1L8.5 8.5l.94-2.06 2.06-.94-2.06-.94L8.5 2.5l-.94 2.06-2.06.94zm10 10l.94 2.06.94-2.06 2.06-.94-2.06-.94-.94-2.06-.94 2.06-2.06.94z\"/><path d=\"M17.41 7.96l-1.37-1.37c-.4-.4-.92-.59-1.43-.59-.52 0-1.04.2-1.43.59L10.3 9.45l-7.72 7.72c-.78.78-.78 2.05 0 2.83L4 21.41c.39.39.9.59 1.41.59.51 0 1.02-.2 1.41-.59l7.78-7.78 2.81-2.81c.8-.78.8-2.07 0-2.86zM5.41 20L4 18.59l7.72-7.72 1.47 1.35L5.41 20z\"/>\n",
              "  </svg>\n",
              "      </button>\n",
              "      \n",
              "  <style>\n",
              "    .colab-df-container {\n",
              "      display:flex;\n",
              "      flex-wrap:wrap;\n",
              "      gap: 12px;\n",
              "    }\n",
              "\n",
              "    .colab-df-convert {\n",
              "      background-color: #E8F0FE;\n",
              "      border: none;\n",
              "      border-radius: 50%;\n",
              "      cursor: pointer;\n",
              "      display: none;\n",
              "      fill: #1967D2;\n",
              "      height: 32px;\n",
              "      padding: 0 0 0 0;\n",
              "      width: 32px;\n",
              "    }\n",
              "\n",
              "    .colab-df-convert:hover {\n",
              "      background-color: #E2EBFA;\n",
              "      box-shadow: 0px 1px 2px rgba(60, 64, 67, 0.3), 0px 1px 3px 1px rgba(60, 64, 67, 0.15);\n",
              "      fill: #174EA6;\n",
              "    }\n",
              "\n",
              "    [theme=dark] .colab-df-convert {\n",
              "      background-color: #3B4455;\n",
              "      fill: #D2E3FC;\n",
              "    }\n",
              "\n",
              "    [theme=dark] .colab-df-convert:hover {\n",
              "      background-color: #434B5C;\n",
              "      box-shadow: 0px 1px 3px 1px rgba(0, 0, 0, 0.15);\n",
              "      filter: drop-shadow(0px 1px 2px rgba(0, 0, 0, 0.3));\n",
              "      fill: #FFFFFF;\n",
              "    }\n",
              "  </style>\n",
              "\n",
              "      <script>\n",
              "        const buttonEl =\n",
              "          document.querySelector('#df-16a47332-738e-4136-8dbc-8a169a6cd5c5 button.colab-df-convert');\n",
              "        buttonEl.style.display =\n",
              "          google.colab.kernel.accessAllowed ? 'block' : 'none';\n",
              "\n",
              "        async function convertToInteractive(key) {\n",
              "          const element = document.querySelector('#df-16a47332-738e-4136-8dbc-8a169a6cd5c5');\n",
              "          const dataTable =\n",
              "            await google.colab.kernel.invokeFunction('convertToInteractive',\n",
              "                                                     [key], {});\n",
              "          if (!dataTable) return;\n",
              "\n",
              "          const docLinkHtml = 'Like what you see? Visit the ' +\n",
              "            '<a target=\"_blank\" href=https://colab.research.google.com/notebooks/data_table.ipynb>data table notebook</a>'\n",
              "            + ' to learn more about interactive tables.';\n",
              "          element.innerHTML = '';\n",
              "          dataTable['output_type'] = 'display_data';\n",
              "          await google.colab.output.renderOutput(dataTable, element);\n",
              "          const docLink = document.createElement('div');\n",
              "          docLink.innerHTML = docLinkHtml;\n",
              "          element.appendChild(docLink);\n",
              "        }\n",
              "      </script>\n",
              "    </div>\n",
              "  </div>\n",
              "  "
            ],
            "text/plain": [
              "                                   Model  RMSE (test)  R2 Score (test)\n",
              "0                Ridge Linear Regression     1.830069        -0.437093\n",
              "1                Lasso Linear Regression     0.997807         0.572788\n",
              "2  Support Vector Machine (Gaussian RBF)     1.509745         0.021959\n",
              "3                          Random Forest     0.809080         0.719112"
            ]
          },
          "execution_count": 8,
          "metadata": {},
          "output_type": "execute_result"
        }
      ],
      "source": [
        "# data processing\n",
        "data = pd.read_csv('test_EC50.csv', header=None)\n",
        "X, y = token(data)\n",
        "X_train, X_test, y_train, y_test = train_test_split(X, y, test_size=0.2, random_state=0)\n",
        "\n",
        "# Ridge\n",
        "reg = linear_model.Ridge(alpha=.1)\n",
        "reg = reg.fit(X_train, y_train)\n",
        "y_pred = reg.predict(X_test)\n",
        "test_rmse_ridge=math.sqrt(mean_squared_error(y_test, y_pred))\n",
        "test_r2_ridge = r2_score(y_test, y_pred)\n",
        "\n",
        "# Lasso\n",
        "clf = linear_model.Lasso(alpha=.1)\n",
        "clf = clf.fit(X_train, y_train)\n",
        "y_pred = clf.predict(X_test)\n",
        "test_rmse_lasso=math.sqrt(mean_squared_error(y_test, y_pred))\n",
        "test_r2_lasso = r2_score(y_test, y_pred)\n",
        "\n",
        "# SVM\n",
        "svm = SVR(kernel='rbf',C=1000, gamma=0.1)\n",
        "svm.fit(X_train, y_train)\n",
        "y_test_predicted_svm = svm.predict(X_test)\n",
        "test_rmse_svm = math.sqrt(mean_squared_error(y_test, y_test_predicted_svm))\n",
        "test_r2_svm = r2_score(y_test, y_test_predicted_svm)\n",
        "\n",
        "# Random Forest\n",
        "rnd_forest_reg = RandomForestRegressor(n_estimators=500,  criterion='squared_error',max_features=\"auto\", verbose=1, max_depth=20, n_jobs=-1)\n",
        "rnd_forest_reg.fit(X_train, y_train)\n",
        "y_pred = rnd_forest_reg.predict(X_test)\n",
        "test_rmse_rf=math.sqrt(mean_squared_error(y_test, y_pred))\n",
        "test_r2_rf = r2_score(y_test, y_pred)\n",
        "\n",
        "data = [\n",
        "        [\"Ridge Linear Regression\", test_rmse_ridge, test_r2_ridge], \n",
        "        [\"Lasso Linear Regression\", test_rmse_lasso, test_r2_lasso],\n",
        "        [\"Support Vector Machine (Gaussian RBF)\", test_rmse_svm, test_r2_svm],\n",
        "        [\"Random Forest\", test_rmse_rf, test_r2_rf]\n",
        "       ]\n",
        "\n",
        "\n",
        "pd.DataFrame(data, columns=[\"Model\", \"RMSE\", \"R2 Score\"])"
      ]
    },
    {
      "cell_type": "code",
      "source": [
        "# data processing\n",
        "data = pd.read_csv('test_EC50.csv', header=None)\n",
        "data = data.sample(frac=1)\n",
        "X, y = token_simple(data)\n",
        "X_train, X_test, y_train, y_test = train_test_split(X, y, test_size=0.2, random_state=0)\n",
        "\n",
        "# Ridge\n",
        "reg = linear_model.Ridge(alpha=.1)\n",
        "reg = reg.fit(X_train, y_train)\n",
        "y_pred = reg.predict(X_test)\n",
        "test_rmse_ridge=math.sqrt(mean_squared_error(y_test, y_pred))\n",
        "test_r2_ridge = r2_score(y_test, y_pred)\n",
        "\n",
        "# Lasso\n",
        "clf = linear_model.Lasso(alpha=.1)\n",
        "clf = clf.fit(X_train, y_train)\n",
        "y_pred = clf.predict(X_test)\n",
        "test_rmse_lasso=math.sqrt(mean_squared_error(y_test, y_pred))\n",
        "test_r2_lasso = r2_score(y_test, y_pred)\n",
        "\n",
        "# SVM\n",
        "svm = SVR(kernel='rbf',C=1000, gamma=0.1)\n",
        "svm.fit(X_train, y_train)\n",
        "y_test_predicted_svm = svm.predict(X_test)\n",
        "test_rmse_svm = math.sqrt(mean_squared_error(y_test, y_test_predicted_svm))\n",
        "test_r2_svm = r2_score(y_test, y_test_predicted_svm)\n",
        "\n",
        "# Random Forest\n",
        "rnd_forest_reg = RandomForestRegressor(n_estimators=500,  criterion='squared_error',verbose=1, max_depth=20, n_jobs=-1)\n",
        "rnd_forest_reg.fit(X_train, y_train)\n",
        "y_pred = rnd_forest_reg.predict(X_test)\n",
        "test_rmse_rf=math.sqrt(mean_squared_error(y_test, y_pred))\n",
        "test_r2_rf = r2_score(y_test, y_pred)\n",
        "\n",
        "# MLP regressor\n",
        "MLP_reg = MLPRegressor(random_state=1, max_iter=500)\n",
        "MLP_reg.fit(X_train, y_train)\n",
        "y_pred = MLP_reg.predict(X_test)\n",
        "test_rmse_MLP=math.sqrt(mean_squared_error(y_test, y_pred))\n",
        "test_r2_MLP = r2_score(y_test, y_pred)\n",
        "\n",
        "data = [\n",
        "        [\"Ridge Linear Regression\", test_rmse_ridge, test_r2_ridge], \n",
        "        [\"Lasso Linear Regression\", test_rmse_lasso, test_r2_lasso],\n",
        "        [\"Support Vector Machine (Gaussian RBF)\", test_rmse_svm, test_r2_svm],\n",
        "        [\"Random Forest\", test_rmse_rf, test_r2_rf],\n",
        "        [\"MLP\",test_rmse_MLP, test_r2_MLP]\n",
        "       ]\n",
        "\n",
        "\n",
        "pd.DataFrame(data, columns=[\"Model\", \"RMSE\", \"R2 Score\"])"
      ],
      "metadata": {
        "colab": {
          "base_uri": "https://localhost:8080/",
          "height": 434
        },
        "id": "gvi4xcJzAJze",
        "outputId": "4a040337-5040-4f0d-8c51-e4b0782edf34"
      },
      "execution_count": null,
      "outputs": [
        {
          "output_type": "stream",
          "name": "stderr",
          "text": [
            "/usr/local/lib/python3.10/dist-packages/sklearn/ensemble/_forest.py:413: FutureWarning: `max_features='auto'` has been deprecated in 1.1 and will be removed in 1.3. To keep the past behaviour, explicitly set `max_features=1.0` or remove this parameter as it is also the default value for RandomForestRegressors and ExtraTreesRegressors.\n",
            "  warn(\n",
            "[Parallel(n_jobs=-1)]: Using backend ThreadingBackend with 2 concurrent workers.\n",
            "[Parallel(n_jobs=-1)]: Done  46 tasks      | elapsed:  1.9min\n",
            "[Parallel(n_jobs=-1)]: Done 196 tasks      | elapsed:  8.0min\n",
            "[Parallel(n_jobs=-1)]: Done 446 tasks      | elapsed: 18.4min\n",
            "[Parallel(n_jobs=-1)]: Done 500 out of 500 | elapsed: 20.6min finished\n",
            "[Parallel(n_jobs=2)]: Using backend ThreadingBackend with 2 concurrent workers.\n",
            "[Parallel(n_jobs=2)]: Done  46 tasks      | elapsed:    0.0s\n",
            "[Parallel(n_jobs=2)]: Done 196 tasks      | elapsed:    0.2s\n",
            "[Parallel(n_jobs=2)]: Done 446 tasks      | elapsed:    0.4s\n",
            "[Parallel(n_jobs=2)]: Done 500 out of 500 | elapsed:    0.4s finished\n"
          ]
        },
        {
          "output_type": "execute_result",
          "data": {
            "text/plain": [
              "                                   Model      RMSE  R2 Score\n",
              "0                Ridge Linear Regression  0.950126  0.595446\n",
              "1                Lasso Linear Regression  1.011322  0.541654\n",
              "2  Support Vector Machine (Gaussian RBF)  1.207947  0.346101\n",
              "3                          Random Forest  0.793482  0.717844\n",
              "4                                    MLP  0.929316  0.612972"
            ],
            "text/html": [
              "\n",
              "  <div id=\"df-05f6911c-56b0-4232-9d9b-28e24a2d5539\">\n",
              "    <div class=\"colab-df-container\">\n",
              "      <div>\n",
              "<style scoped>\n",
              "    .dataframe tbody tr th:only-of-type {\n",
              "        vertical-align: middle;\n",
              "    }\n",
              "\n",
              "    .dataframe tbody tr th {\n",
              "        vertical-align: top;\n",
              "    }\n",
              "\n",
              "    .dataframe thead th {\n",
              "        text-align: right;\n",
              "    }\n",
              "</style>\n",
              "<table border=\"1\" class=\"dataframe\">\n",
              "  <thead>\n",
              "    <tr style=\"text-align: right;\">\n",
              "      <th></th>\n",
              "      <th>Model</th>\n",
              "      <th>RMSE</th>\n",
              "      <th>R2 Score</th>\n",
              "    </tr>\n",
              "  </thead>\n",
              "  <tbody>\n",
              "    <tr>\n",
              "      <th>0</th>\n",
              "      <td>Ridge Linear Regression</td>\n",
              "      <td>0.950126</td>\n",
              "      <td>0.595446</td>\n",
              "    </tr>\n",
              "    <tr>\n",
              "      <th>1</th>\n",
              "      <td>Lasso Linear Regression</td>\n",
              "      <td>1.011322</td>\n",
              "      <td>0.541654</td>\n",
              "    </tr>\n",
              "    <tr>\n",
              "      <th>2</th>\n",
              "      <td>Support Vector Machine (Gaussian RBF)</td>\n",
              "      <td>1.207947</td>\n",
              "      <td>0.346101</td>\n",
              "    </tr>\n",
              "    <tr>\n",
              "      <th>3</th>\n",
              "      <td>Random Forest</td>\n",
              "      <td>0.793482</td>\n",
              "      <td>0.717844</td>\n",
              "    </tr>\n",
              "    <tr>\n",
              "      <th>4</th>\n",
              "      <td>MLP</td>\n",
              "      <td>0.929316</td>\n",
              "      <td>0.612972</td>\n",
              "    </tr>\n",
              "  </tbody>\n",
              "</table>\n",
              "</div>\n",
              "      <button class=\"colab-df-convert\" onclick=\"convertToInteractive('df-05f6911c-56b0-4232-9d9b-28e24a2d5539')\"\n",
              "              title=\"Convert this dataframe to an interactive table.\"\n",
              "              style=\"display:none;\">\n",
              "        \n",
              "  <svg xmlns=\"http://www.w3.org/2000/svg\" height=\"24px\"viewBox=\"0 0 24 24\"\n",
              "       width=\"24px\">\n",
              "    <path d=\"M0 0h24v24H0V0z\" fill=\"none\"/>\n",
              "    <path d=\"M18.56 5.44l.94 2.06.94-2.06 2.06-.94-2.06-.94-.94-2.06-.94 2.06-2.06.94zm-11 1L8.5 8.5l.94-2.06 2.06-.94-2.06-.94L8.5 2.5l-.94 2.06-2.06.94zm10 10l.94 2.06.94-2.06 2.06-.94-2.06-.94-.94-2.06-.94 2.06-2.06.94z\"/><path d=\"M17.41 7.96l-1.37-1.37c-.4-.4-.92-.59-1.43-.59-.52 0-1.04.2-1.43.59L10.3 9.45l-7.72 7.72c-.78.78-.78 2.05 0 2.83L4 21.41c.39.39.9.59 1.41.59.51 0 1.02-.2 1.41-.59l7.78-7.78 2.81-2.81c.8-.78.8-2.07 0-2.86zM5.41 20L4 18.59l7.72-7.72 1.47 1.35L5.41 20z\"/>\n",
              "  </svg>\n",
              "      </button>\n",
              "      \n",
              "  <style>\n",
              "    .colab-df-container {\n",
              "      display:flex;\n",
              "      flex-wrap:wrap;\n",
              "      gap: 12px;\n",
              "    }\n",
              "\n",
              "    .colab-df-convert {\n",
              "      background-color: #E8F0FE;\n",
              "      border: none;\n",
              "      border-radius: 50%;\n",
              "      cursor: pointer;\n",
              "      display: none;\n",
              "      fill: #1967D2;\n",
              "      height: 32px;\n",
              "      padding: 0 0 0 0;\n",
              "      width: 32px;\n",
              "    }\n",
              "\n",
              "    .colab-df-convert:hover {\n",
              "      background-color: #E2EBFA;\n",
              "      box-shadow: 0px 1px 2px rgba(60, 64, 67, 0.3), 0px 1px 3px 1px rgba(60, 64, 67, 0.15);\n",
              "      fill: #174EA6;\n",
              "    }\n",
              "\n",
              "    [theme=dark] .colab-df-convert {\n",
              "      background-color: #3B4455;\n",
              "      fill: #D2E3FC;\n",
              "    }\n",
              "\n",
              "    [theme=dark] .colab-df-convert:hover {\n",
              "      background-color: #434B5C;\n",
              "      box-shadow: 0px 1px 3px 1px rgba(0, 0, 0, 0.15);\n",
              "      filter: drop-shadow(0px 1px 2px rgba(0, 0, 0, 0.3));\n",
              "      fill: #FFFFFF;\n",
              "    }\n",
              "  </style>\n",
              "\n",
              "      <script>\n",
              "        const buttonEl =\n",
              "          document.querySelector('#df-05f6911c-56b0-4232-9d9b-28e24a2d5539 button.colab-df-convert');\n",
              "        buttonEl.style.display =\n",
              "          google.colab.kernel.accessAllowed ? 'block' : 'none';\n",
              "\n",
              "        async function convertToInteractive(key) {\n",
              "          const element = document.querySelector('#df-05f6911c-56b0-4232-9d9b-28e24a2d5539');\n",
              "          const dataTable =\n",
              "            await google.colab.kernel.invokeFunction('convertToInteractive',\n",
              "                                                     [key], {});\n",
              "          if (!dataTable) return;\n",
              "\n",
              "          const docLinkHtml = 'Like what you see? Visit the ' +\n",
              "            '<a target=\"_blank\" href=https://colab.research.google.com/notebooks/data_table.ipynb>data table notebook</a>'\n",
              "            + ' to learn more about interactive tables.';\n",
              "          element.innerHTML = '';\n",
              "          dataTable['output_type'] = 'display_data';\n",
              "          await google.colab.output.renderOutput(dataTable, element);\n",
              "          const docLink = document.createElement('div');\n",
              "          docLink.innerHTML = docLinkHtml;\n",
              "          element.appendChild(docLink);\n",
              "        }\n",
              "      </script>\n",
              "    </div>\n",
              "  </div>\n",
              "  "
            ]
          },
          "metadata": {},
          "execution_count": 13
        }
      ]
    },
    {
      "cell_type": "markdown",
      "source": [
        "### 3.2 Hyperparameter Tuning for SGD"
      ],
      "metadata": {
        "id": "SHVv5WDknTbc"
      }
    },
    {
      "cell_type": "code",
      "execution_count": null,
      "metadata": {
        "colab": {
          "base_uri": "https://localhost:8080/"
        },
        "id": "3f_z_CcfJLe-",
        "outputId": "09082358-8154-4199-ae74-622e8a0ca0d6"
      },
      "outputs": [
        {
          "output_type": "stream",
          "name": "stdout",
          "text": [
            "Best Score in SGD: -272608238646157856.000000\n",
            "Optimal Hyperparameter Values in SGD:  {'alpha': 0.01, 'eta0': 0.0001, 'l1_ratio': 1, 'learning_rate': 'invscaling', 'max_iter': 1000, 'penalty': 'l1'}\n",
            "\n",
            "\n",
            "Root Mean squared error in SGD: 143623275.41\n",
            "Coefficient of determination r^2 variance score [1 is perfect prediction] in SGD: -9244101208707912.00\n"
          ]
        }
      ],
      "source": [
        "# %%time\n",
        "warnings.filterwarnings('ignore')\n",
        "\n",
        "# The param_grid tells Scikit-Learn to evaluate all combinations of the hyperparameter values\n",
        "param_grid = {'alpha': [0.1, 0.01, 0.001], 'learning_rate': [\"constant\", \"optimal\", \"invscaling\"], \n",
        "              'l1_ratio': [1, 0.2, 0], 'max_iter':[100, 400, 1000],'eta0': [0.01, 0.001, 0.0001], 'penalty':['l2', 'l1', 'elasticnet']}\n",
        "\n",
        "sgd = SGDRegressor()\n",
        "sgd_cv = GridSearchCV(sgd, param_grid, cv=2, n_jobs=-1)\n",
        "sgd_cv.fit(X_train[:1000], y_train[:1000])\n",
        "\n",
        "params_optimal_sgd = sgd_cv.best_params_\n",
        "\n",
        "print(\"Best Score in SGD: %f\" % sgd_cv.best_score_)\n",
        "print(\"Optimal Hyperparameter Values in SGD: \", params_optimal_sgd)\n",
        "print(\"\\n\")\n",
        "# test the model\n",
        "lin_reg_sgd = SGDRegressor(**params_optimal_sgd)\n",
        "lin_reg_sgd.fit(X_train, y_train)\n",
        "y_test_predicted = lin_reg_sgd.predict(X_test)\n",
        "print(\"Root Mean squared error in SGD: %.2f\" %math.sqrt(mean_squared_error(y_test, y_test_predicted)))\n",
        "print(\"Coefficient of determination r^2 variance score [1 is perfect prediction] in SGD: %.2f\"  % r2_score(y_test, y_test_predicted))"
      ]
    },
    {
      "cell_type": "markdown",
      "source": [
        "### 3.3 polynomial degree: to find out the coefficiency between binding affinity and drugs, which means some characteristic among drugs may play a significant role on binding affinity no matter what protein is involved."
      ],
      "metadata": {
        "id": "NjjBG2gCnbr2"
      }
    },
    {
      "cell_type": "code",
      "execution_count": null,
      "metadata": {
        "id": "QH5277zwLRMT",
        "colab": {
          "base_uri": "https://localhost:8080/"
        },
        "outputId": "805793c7-c7ff-4708-ab3f-ea6279466065"
      },
      "outputs": [
        {
          "output_type": "stream",
          "name": "stdout",
          "text": [
            "labels: (11483,)\n",
            "dataset: (11483, 64)\n",
            "Root Mean squared error for the coefficiency between binding affinity and drugs in SGD: 1.34\n",
            "No. of Original Features:  64\n",
            "No. of Augmented Features:  2145\n",
            "Root Mean squared error for the coefficiency between binding affinity and drugs in polynomial solution: 1.14\n"
          ]
        }
      ],
      "source": [
        "# data processing\n",
        "data = pd.read_csv('test_EC50.csv', header=None)\n",
        "X, y = token_poly(data)\n",
        "X_train, X_test, y_train, y_test = train_test_split(X, y, test_size=0.2, random_state=0)\n",
        "\n",
        "# SGD Regression\n",
        "lin_reg_sgd = SGDRegressor(max_iter=1000, eta0=0.01, penalty=\"elasticnet\", l1_ratio=0.0, alpha=0.01)\n",
        "lin_reg_sgd.fit(X_train.iloc[:,0:1024], y_train)\n",
        "y_train_predicted = lin_reg_sgd.predict(X_train.iloc[:,:1024])\n",
        "print(\"Root Mean squared error for the coefficiency between binding affinity and drugs in SGD: %.2f\" %math.sqrt(mean_squared_error(y_train, y_train_predicted)))\n",
        "\n",
        "# Add polynomial terms with the feature vector using the sklearn PolynomialFeatures class\n",
        "poly_features = PolynomialFeatures(2)\n",
        "X_train_poly = poly_features.fit_transform(X_train.iloc[:,:1024])\n",
        "print(\"No. of Original Features: \", X_train.iloc[:,:1024].shape[1])\n",
        "print(\"No. of Augmented Features: \", X_train_poly.shape[1])\n",
        "lin_reg_sgd.fit(X_train_poly, y_train)\n",
        "y_train_predicted = lin_reg_sgd.predict(X_train_poly)\n",
        "print(\"Root Mean squared error for the coefficiency between binding affinity and drugs in polynomial solution: %.2f\" %math.sqrt(mean_squared_error(y_train, y_train_predicted)))\n"
      ]
    },
    {
      "cell_type": "markdown",
      "source": [
        "### Future Work"
      ],
      "metadata": {
        "id": "yrpqYw8V5S_X"
      }
    },
    {
      "cell_type": "code",
      "execution_count": null,
      "metadata": {
        "id": "o7owQSaPJ_Eb"
      },
      "outputs": [],
      "source": [
        "# apply the optimized model on other alternative datasets \n",
        "data = pd.read_csv('test_IC50.csv', header=None)\n",
        "X, y = token(data)\n",
        "X_train, X_test, y_train, y_test = train_test_split(X, y, test_size=0.2, random_state=0)\n",
        "\n",
        "\n",
        "data = pd.read_csv('test_Kd.csv', header=None)\n",
        "X, y = token(data)\n",
        "X_train, X_test, y_train, y_test = train_test_split(X, y, test_size=0.2, random_state=0)\n",
        "\n",
        "\n",
        "data = pd.read_csv('test_Ki.csv', header=None)\n",
        "X, y = token(data)\n",
        "X_train, X_test, y_train, y_test = train_test_split(X, y, test_size=0.2, random_state=0)\n"
      ]
    },
    {
      "cell_type": "markdown",
      "metadata": {
        "id": "ujT4jGNu98jV"
      },
      "source": [
        "#  Part 4: Supervised Classification Models Comparison"
      ]
    },
    {
      "cell_type": "markdown",
      "source": [
        "### 4.1 data processing"
      ],
      "metadata": {
        "id": "nBWVja9pnoLL"
      }
    },
    {
      "cell_type": "code",
      "execution_count": null,
      "metadata": {
        "colab": {
          "base_uri": "https://localhost:8080/"
        },
        "id": "oC2AldpBwdEN",
        "outputId": "aa3441fb-6738-4c3e-9f66-984a856898aa"
      },
      "outputs": [
        {
          "output_type": "stream",
          "name": "stdout",
          "text": [
            "labels: (4697,)\n",
            "dataset: (4697, 9107)\n",
            "Number of positive/negative labels: 0    3914\n",
            "1     783\n",
            "Name: 2, dtype: int64\n"
          ]
        }
      ],
      "source": [
        "data = pd.read_csv('test_celegans.csv', header=None)\n",
        "#data = data.sample(frac=1)\n",
        "X, y = token_simple(data)\n",
        "X_train, X_test, y_train, y_test = train_test_split(X, y, test_size=0.2, random_state=0)"
      ]
    },
    {
      "cell_type": "markdown",
      "source": [
        "### 4.2 Classification models"
      ],
      "metadata": {
        "id": "hO7kkQNQnsYW"
      }
    },
    {
      "cell_type": "code",
      "execution_count": null,
      "metadata": {
        "colab": {
          "base_uri": "https://localhost:8080/"
        },
        "id": "8oyXFUS05w90",
        "outputId": "7d135997-ccf7-42f2-af7d-a8d795e95cd0"
      },
      "outputs": [
        {
          "metadata": {
            "tags": null
          },
          "name": "stdout",
          "output_type": "stream",
          "text": [
            "Linear Regression 3472550561.2985706 -8.17733482169841e+19\n",
            "ElasticNet Regression 0.38435842687901167 -0.0018147899560705394\n",
            "Random Forest 0.22636066119396764 0.6525306257147022\n",
            "Extra Trees 0.21930062917704274 0.6738672744994205\n",
            "SVM 0.3031205574732865 0.37691771126507034\n",
            "Gradient Boosted 0.28204079960032735 0.4605657728149096\n",
            "GaussianNB 0.42651482227118587 -0.2336242027951101\n",
            "MultinomialNB 0.6818310766027584 -2.152595184920837\n"
          ]
        },
        {
          "metadata": {
            "tags": null
          },
          "name": "stderr",
          "output_type": "stream",
          "text": [
            "/usr/local/lib/python3.10/dist-packages/sklearn/linear_model/_sag.py:350: ConvergenceWarning: The max_iter was reached which means the coef_ did not converge\n",
            "  warnings.warn(\n"
          ]
        },
        {
          "output_type": "stream",
          "name": "stdout",
          "text": [
            "Logistic Regression 0.3261640365267211 0.27858233754671924\n",
            "Perceptron 0.42401324748473745 -0.21919584954604443\n",
            "Multi-Layer Perceptron 0.42401324748473745 -0.21919584954604443\n",
            "                                     rmse                      r2\n",
            "Linear Regression       3472550561.298571 -81773348216984092672.0\n",
            "ElasticNet Regression            0.384358               -0.001815\n",
            "Random Forest                    0.226361                0.652531\n",
            "Extra Trees                      0.219301                0.673867\n",
            "SVM                              0.303121                0.376918\n",
            "Gradient Boosted                 0.282041                0.460566\n",
            "GaussianNB                       0.426515               -0.233624\n",
            "MultinomialNB                    0.681831               -2.152595\n",
            "Logistic Regression              0.326164                0.278582\n",
            "Perceptron                       0.424013               -0.219196\n",
            "Multi-Layer Perceptron           0.424013               -0.219196\n",
            "Baseline                              NaN                     NaN\n"
          ]
        }
      ],
      "source": [
        "def evaluate(X_train, X_test, y_train, y_test):\n",
        "    model_name_list = ['Linear Regression', 'ElasticNet Regression', 'Random Forest', 'Extra Trees', 'SVM',\n",
        "                       'Gradient Boosted','GaussianNB', 'MultinomialNB','Logistic Regression','Perceptron','Multi-Layer Perceptron']\n",
        "    \n",
        "    # Instantiate the models\n",
        "    model1 = LinearRegression()\n",
        "    model2 = ElasticNet(alpha=1.0, l1_ratio=0.5)\n",
        "    model3 = RandomForestRegressor(n_estimators=50)\n",
        "    model4 = ExtraTreesRegressor(n_estimators=50)\n",
        "    model5 = SVR(kernel='rbf', degree=3, C=1.0, gamma='auto')\n",
        "    model6 = GradientBoostingRegressor(n_estimators=20)\n",
        "    model7 = GaussianNB()\n",
        "    model8 = MultinomialNB(alpha=0.5)\n",
        "    model9 = LogisticRegression(solver='saga', random_state=0)\n",
        "    model10 = Perceptron(penalty='l2', alpha=.1)\n",
        "    model11 = MLPClassifier(random_state=42, hidden_layer_sizes=(3, ), alpha=0.01, max_iter=200,  activation='logistic')\n",
        "    \n",
        "    # Dataframe for results\n",
        "    results = pd.DataFrame(columns=['rmse', 'r2'], index = model_name_list)\n",
        "    \n",
        "    # Train and predict with each model\n",
        "    for i, model in enumerate([model1, model2, model3, model4, model5, model6,model7, model8, model9, model10, model11]):\n",
        "        model.fit(X_train, y_train)\n",
        "        predictions = model.predict(X_test)\n",
        "        # Metrics\n",
        "        rmse = np.sqrt(np.mean((predictions - y_test) ** 2))\n",
        "        r2 = r2_score(y_test, predictions)\n",
        "        print(model_name_list[i],rmse,r2)\n",
        "        # Insert results into the dataframe\n",
        "        model_name = model_name_list[i]\n",
        "        results.loc[model_name, :] = [rmse, r2]\n",
        "    return results\n",
        "\n",
        "results = evaluate(X_train, X_test, y_train, y_test)\n",
        "print(results)"
      ]
    },
    {
      "cell_type": "code",
      "execution_count": null,
      "metadata": {
        "id": "XkRlmVTE7b_F",
        "colab": {
          "base_uri": "https://localhost:8080/",
          "height": 789
        },
        "outputId": "ad3b183a-ccb7-45c8-e09f-eafde786a394"
      },
      "outputs": [
        {
          "output_type": "display_data",
          "data": {
            "text/plain": [
              "<Figure size 1200x800 with 2 Axes>"
            ],
            "image/png": "[encoded data removed]"
          },
          "metadata": {}
        }
      ],
      "source": [
        "# plot the graph\n",
        "figsize(12, 8)\n",
        "matplotlib.rcParams['font.size'] = 16\n",
        "results = results[1:11]\n",
        "# Root mean squared error\n",
        "ax = plt.subplot(1, 2, 1)\n",
        "results.sort_values('rmse', ascending = True).plot.bar(y = 'rmse', color = 'g', ax = ax)\n",
        "plt.title('Root Mean Squared Error'); plt.ylabel('RMSE');\n",
        "\n",
        "# R2\n",
        "ax = plt.subplot(1, 2, 2)\n",
        "results.sort_values('r2', ascending = True).plot.bar(y = 'r2', color = 'b', ax = ax)\n",
        "plt.title('R2 score'); plt.ylabel('R2');\n",
        "\n",
        "plt.tight_layout()"
      ]
    },
    {
      "cell_type": "markdown",
      "source": [
        "### 4.3 KNN model with hyperparameter tuning and optimal tradeoff"
      ],
      "metadata": {
        "id": "YJjGgcAVn1s4"
      }
    },
    {
      "cell_type": "code",
      "execution_count": null,
      "metadata": {
        "id": "g2mkVUOwBJ5l",
        "colab": {
          "base_uri": "https://localhost:8080/"
        },
        "outputId": "8e69615f-3808-440e-dd56-16fb9247eef4"
      },
      "outputs": [
        {
          "output_type": "stream",
          "name": "stdout",
          "text": [
            "\n",
            " RMSE:  0.3761507167374903\n",
            "confusion_matrix: [[728  43]\n",
            " [ 90  79]]\n",
            "Precision = 0.647541\n",
            "Recall = 0.467456\n",
            "F1 Score = 0.542955\n",
            "AUC: 0.7058419481346748\n",
            "AUC with predict_proba: 0.7423694732883599\n",
            "CPU times: user 19.6 s, sys: 177 ms, total: 19.7 s\n",
            "Wall time: 13.9 s\n"
          ]
        }
      ],
      "source": [
        "# KNN\n",
        "%%time\n",
        "\n",
        "warnings.filterwarnings('ignore')\n",
        "\n",
        "# The param_grid tells Scikit-Learn to evaluate all combinations of the hyperparameter values\n",
        "param_grid = {'n_neighbors': np.arange(1,10), 'p': [1, 2, 10], 'weights': [\"uniform\", \"distance\"]}\n",
        "\n",
        "knn_clf = KNeighborsClassifier()\n",
        "\n",
        "knn_cv = GridSearchCV(knn_clf, param_grid, scoring='f1', cv=2, verbose=3, n_jobs=-1)\n",
        "knn_cv.fit(X_train.iloc[0:1000], y_train.iloc[0:1000])\n",
        "\n",
        "\n",
        "params_optimal_knn = knn_cv.best_params_\n",
        "print(\"Best Score: %f\" % knn_cv.best_score_)\n",
        "print(\"Optimal Hyperparameter Values: \", params_optimal_knn)\n",
        "print(\"\\n\")\n",
        "\n",
        "knn = KNeighborsClassifier(**params_optimal_knn)\n",
        "y_test_pred = cross_val_predict(knn, X_test, y_test, cv=2)\n",
        "print(\"\\n RMSE: \", math.sqrt(mean_squared_error(y_test_pred,y_test)))\n",
        "print(\"confusion_matrix:\", confusion_matrix(y_test, y_test_pred))\n",
        "precision = precision_score(y_test, y_test_pred) \n",
        "print(\"Precision = %f\" % precision)\n",
        "recall = recall_score(y_test, y_test_pred)\n",
        "print(\"Recall = %f\" % recall)\n",
        "f1 = f1_score(y_test, y_test_pred)\n",
        "print(\"F1 Score = %f\" % f1)\n",
        "auc= roc_auc_score(y_test,y_test_pred)\n",
        "print(\"AUC:\",auc)\n",
        "y_scores = cross_val_predict(knn, X_test, y_test, method=\"predict_proba\", cv=2)[:, 1]\n",
        "auc= roc_auc_score(y_test,y_scores)\n",
        "print(\"AUC with predict_proba:\",auc)"
      ]
    },
    {
      "cell_type": "code",
      "source": [
        "# select the threshold value that gives the best precision/recall tradeoff for our problem\n",
        "\n",
        "plt.style.use('ggplot')\n",
        "\n",
        "# Get the 2nd column of the matrix of predicted probabilities for each data point\n",
        "#    The 2nd column stores the probalities of the positive class\n",
        "y_scores = cross_val_predict(knn, X_train, y_train, method=\"predict_proba\", cv=2)[:, 1]\n",
        "\n",
        "precisions, recalls, thresholds = precision_recall_curve(y_train, y_scores)\n",
        "\n",
        "\n",
        "fig = plt.figure(figsize=(10, 6))\n",
        "def plot_precision_recall_vs_threshold(precisions, recalls, thresholds): \n",
        "    plt.plot(thresholds, precisions[:-1], \"b--\",  linewidth=8, label=\"Precision\") \n",
        "    plt.plot(thresholds, recalls[:-1], \"p-\",  linewidth=3, label=\"Recall\") \n",
        "    plt.xlabel(\"Threshold\")\n",
        "    plt.legend(loc=\"lower right\")\n",
        "    plt.title('Precision-Recall Curve')\n",
        "    #plt.xlim([0, 1])\n",
        "    plt.ylim([0, 1.1])\n",
        "\n",
        "plot_precision_recall_vs_threshold(precisions, recalls, thresholds)\n",
        "plt.show()\n",
        "\n",
        "\n",
        "threshold_optimal = -1\n",
        "for i in range(len(precisions)):\n",
        "    if(precisions[i] == recalls[i]):\n",
        "        threshold_optimal = thresholds[i]\n",
        "\n",
        "print(\"Optimal Threshold: \", threshold_optimal)"
      ],
      "metadata": {
        "id": "Ux-avXSHmvFU",
        "colab": {
          "base_uri": "https://localhost:8080/",
          "height": 586
        },
        "outputId": "9bf4456f-facb-4ed2-bc33-7785134d48e9"
      },
      "execution_count": null,
      "outputs": [
        {
          "output_type": "display_data",
          "data": {
            "text/plain": [
              "<Figure size 1000x600 with 1 Axes>"
            ],
            "image/png": "[encoded data removed]"
          },
          "metadata": {}
        },
        {
          "output_type": "stream",
          "name": "stdout",
          "text": [
            "Optimal Threshold:  0.3373866927996778\n"
          ]
        }
      ]
    },
    {
      "cell_type": "markdown",
      "source": [
        "### Future Work"
      ],
      "metadata": {
        "id": "b_lVkEYR5l38"
      }
    },
    {
      "cell_type": "code",
      "execution_count": null,
      "metadata": {
        "id": "NdKDrVG4KoBw"
      },
      "outputs": [],
      "source": [
        "# apply the optimized model on other alternative datasets\n",
        "data = pd.read_csv('test_human.csv', header=None)\n",
        "X, y = token_simple(data)\n",
        "X_train, X_test, y_train, y_test = train_test_split(X, y, test_size=0.2, random_state=0)\n"
      ]
    },
    {
      "cell_type": "markdown",
      "metadata": {
        "id": "PHF3Hhbp-LHC"
      },
      "source": [
        "# Part 5:  Unsupervised Learning Models for Classification"
      ]
    },
    {
      "cell_type": "code",
      "source": [
        "# data processing\n",
        "data = pd.read_csv('test_celegans.csv', header=None)\n",
        "data = data.sample(frac=1)\n",
        "X, y = token_simple(data)"
      ],
      "metadata": {
        "id": "oVrgtvIv79zC",
        "colab": {
          "base_uri": "https://localhost:8080/",
          "height": 200,
          "referenced_widgets": [
            "ac4dc68daeaa4864b14e901b7da4a30b",
            "7d280cf014f0484191b00a3ce7514a96",
            "e66f1e328b95433b93031e78abcde51a",
            "5e75408ad42843068447dfc554eaafdc",
            "d85f5b711caf40fcb26a29ba9621ce8c",
            "11091733443643baa41f674e03280bb6",
            "c8aaa4fa11394f35b75c5a4bd193668f",
            "098d8b0a68d14ea481b317d9f37fbace",
            "050ce74148f640349b3b6d93bd253ac3",
            "d18044dc049c49898afef887a5468a94",
            "72ae05d49bc647a7989a859db4115a86",
            "f3094dc7f21e45d9a55c17ae4b3eeec4",
            "4dea3aa3b7574427b0b3f2ae026b2291",
            "0158ac1caf2747b78f1b6cbe978c4a53",
            "ae7a06ee80fc4e2d9a3845b49d69610f",
            "d6be2e479cdb4bd1bfc4fdaa9760a2c3",
            "df3a02959a62495d9fe59f4493b00c0d",
            "f1ee7561f260459395f99486ff03c1bf",
            "fbefb1c2d29147ba91f419665ae3a451",
            "b3e6688c3479413b83ab38ed507cac30",
            "a10712199d3b40018c92bf947497fe38",
            "0cecb946fc6b4d8089d7e640eebdd585",
            "297a934846e0474bbcfc51e7b55923d7",
            "2dbbd2f64f434af4b13ffdac9711dc4a",
            "cf19e20d02bb41d5b9c4b59506b54d48",
            "5ccf0fee8e314d5da742f1966127e954",
            "f057baf7fda145128171a31ed8ae334a",
            "4b4f824b801e4d8cb0107d640eefa3ae",
            "e2ea960fb60f49fcb39dca2ca2b1d75e",
            "eb04a3de74134904b3e7ad76b1f2ab1b",
            "df0476b26e5049f08c040f54282a15f8",
            "d7ed65bc6d484f1ea94a9c6747bba480",
            "a9402e7a845b405e976adae732bdd749"
          ]
        },
        "outputId": "74d3ecf7-2ea2-4b4f-dbb6-08098f28d985"
      },
      "execution_count": 10,
      "outputs": [
        {
          "output_type": "display_data",
          "data": {
            "text/plain": [
              "Downloading (…)okenizer_config.json:   0%|          | 0.00/95.0 [00:00<?, ?B/s]"
            ],
            "application/vnd.jupyter.widget-view+json": {
              "version_major": 2,
              "version_minor": 0,
              "model_id": "ac4dc68daeaa4864b14e901b7da4a30b"
            }
          },
          "metadata": {}
        },
        {
          "output_type": "display_data",
          "data": {
            "text/plain": [
              "Downloading (…)solve/main/vocab.txt:   0%|          | 0.00/93.0 [00:00<?, ?B/s]"
            ],
            "application/vnd.jupyter.widget-view+json": {
              "version_major": 2,
              "version_minor": 0,
              "model_id": "f3094dc7f21e45d9a55c17ae4b3eeec4"
            }
          },
          "metadata": {}
        },
        {
          "output_type": "display_data",
          "data": {
            "text/plain": [
              "Downloading (…)cial_tokens_map.json:   0%|          | 0.00/125 [00:00<?, ?B/s]"
            ],
            "application/vnd.jupyter.widget-view+json": {
              "version_major": 2,
              "version_minor": 0,
              "model_id": "297a934846e0474bbcfc51e7b55923d7"
            }
          },
          "metadata": {}
        },
        {
          "output_type": "stream",
          "name": "stdout",
          "text": [
            "labels: (4697,)\n",
            "dataset: (4697, 9107)\n",
            "Number of positive/negative labels: 0    3914\n",
            "1     783\n",
            "Name: 2, dtype: int64\n"
          ]
        }
      ]
    },
    {
      "cell_type": "code",
      "execution_count": 11,
      "metadata": {
        "id": "juBhjJG8-SIa",
        "colab": {
          "base_uri": "https://localhost:8080/"
        },
        "outputId": "61953042-0900-4137-80eb-8545238316c0"
      },
      "outputs": [
        {
          "output_type": "stream",
          "name": "stdout",
          "text": [
            "0    3914\n",
            "1     783\n",
            "Name: 2, dtype: int64\n",
            "3957 740\n",
            "LocalOutlierFactor result: 0.5031305022761293\n"
          ]
        },
        {
          "output_type": "stream",
          "name": "stderr",
          "text": [
            "/usr/local/lib/python3.10/dist-packages/sklearn/cluster/_kmeans.py:870: FutureWarning: The default value of `n_init` will change from 10 to 'auto' in 1.4. Set the value of `n_init` explicitly to suppress the warning\n",
            "  warnings.warn(\n"
          ]
        },
        {
          "output_type": "stream",
          "name": "stdout",
          "text": [
            "3218 1479\n",
            "KMeans result: 0.6289448636194439\n"
          ]
        }
      ],
      "source": [
        "print(y.value_counts())\n",
        "# Outlier\n",
        "from sklearn.neighbors import LocalOutlierFactor\n",
        "clf = LocalOutlierFactor(n_neighbors=2)\n",
        "y_pred = clf.fit_predict(X)\n",
        "print((y_pred==1).sum(),(y_pred==-1).sum())\n",
        "y_pred_update = np.where(y_pred==1,0,1)\n",
        "print(\"LocalOutlierFactor result:\", math.sqrt(mean_squared_error(y,y_pred_update)))\n",
        "\n",
        "# KMeans\n",
        "from sklearn.cluster import KMeans\n",
        "y_pred =KMeans(n_clusters=2, random_state=0).fit(X).labels_\n",
        "print((y_pred==1).sum(),(y_pred==0).sum())\n",
        "y_pred_update = np.where(y_pred==1,0,1)\n",
        "print(\"KMeans result:\", math.sqrt(mean_squared_error(y,y_pred_update)))"
      ]
    },
    {
      "cell_type": "code",
      "source": [
        "# Spectral Clustering\n",
        "from sklearn.cluster import SpectralClustering\n",
        "y_pred = SpectralClustering(n_clusters=2, random_state=0,assign_labels= 'cluster_qr', degree=1).fit(X).labels_\n",
        "print((y_pred==1).sum(),(y_pred==0).sum())\n",
        "y_pred_update = np.where(y_pred==1,0,1)\n",
        "print(\"Spectral Clustering result:\", math.sqrt(mean_squared_error(y,y_pred_update)))\n",
        "\n",
        "# Affinity Propagation\n",
        "from sklearn.cluster import AffinityPropagation\n",
        "af = AffinityPropagation(random_state=0).fit(X)\n",
        "cluster_centers_indices = af.cluster_centers_indices_\n",
        "labels = af.labels_\n",
        "print((labels==1).sum(),(labels==-1).sum())\n",
        "labels = np.where(labels==1,0,1)\n",
        "n_clusters_ = len(cluster_centers_indices)\n",
        "print(\"Affinity Propagation----Estimated number of clusters: %d\" % n_clusters_)\n",
        "print(\"Homogeneity: %0.3f\" % metrics.homogeneity_score(y, labels))\n",
        "print(\"Completeness: %0.3f\" % metrics.completeness_score(y, labels))\n",
        "print(\"V-measure: %0.3f\" % metrics.v_measure_score(y, labels))\n",
        "print(\"Adjusted Rand Index: %0.3f\" % metrics.adjusted_rand_score(y, labels))\n",
        "print(\"Adjusted Mutual Information: %0.3f\" % metrics.adjusted_mutual_info_score(y, labels))"
      ],
      "metadata": {
        "id": "-dOLl4ym77hH",
        "colab": {
          "base_uri": "https://localhost:8080/"
        },
        "outputId": "299202c4-126b-4a39-994c-caa28e5865df"
      },
      "execution_count": null,
      "outputs": [
        {
          "metadata": {
            "tags": null
          },
          "name": "stderr",
          "output_type": "stream",
          "text": [
            "/usr/local/lib/python3.10/dist-packages/sklearn/manifold/_spectral_embedding.py:274: UserWarning: Graph is not fully connected, spectral embedding may not work as expected.\n",
            "  warnings.warn(\n"
          ]
        }
      ]
    }
  ],
  "metadata": {
    "colab": {
      "provenance": [],
      "collapsed_sections": [
        "__plEbTx-swt",
        "yrpqYw8V5S_X"
      ]
    },
    "kernelspec": {
      "display_name": "Python 3",
      "name": "python3"
    },
    "language_info": {
      "name": "python"
    },
    "widgets": {
      "application/vnd.jupyter.widget-state+json": {
        "ac4dc68daeaa4864b14e901b7da4a30b": {
          "model_module": "@jupyter-widgets/controls",
          "model_name": "HBoxModel",
          "model_module_version": "1.5.0",
          "state": {
            "_dom_classes": [],
            "_model_module": "@jupyter-widgets/controls",
            "_model_module_version": "1.5.0",
            "_model_name": "HBoxModel",
            "_view_count": null,
            "_view_module": "@jupyter-widgets/controls",
            "_view_module_version": "1.5.0",
            "_view_name": "HBoxView",
            "box_style": "",
            "children": [
              "IPY_MODEL_7d280cf014f0484191b00a3ce7514a96",
              "IPY_MODEL_e66f1e328b95433b93031e78abcde51a",
              "IPY_MODEL_5e75408ad42843068447dfc554eaafdc"
            ],
            "layout": "IPY_MODEL_d85f5b711caf40fcb26a29ba9621ce8c"
          }
        },
        "7d280cf014f0484191b00a3ce7514a96": {
          "model_module": "@jupyter-widgets/controls",
          "model_name": "HTMLModel",
          "model_module_version": "1.5.0",
          "state": {
            "_dom_classes": [],
            "_model_module": "@jupyter-widgets/controls",
            "_model_module_version": "1.5.0",
            "_model_name": "HTMLModel",
            "_view_count": null,
            "_view_module": "@jupyter-widgets/controls",
            "_view_module_version": "1.5.0",
            "_view_name": "HTMLView",
            "description": "",
            "description_tooltip": null,
            "layout": "IPY_MODEL_11091733443643baa41f674e03280bb6",
            "placeholder": "​",
            "style": "IPY_MODEL_c8aaa4fa11394f35b75c5a4bd193668f",
            "value": "Downloading (…)okenizer_config.json: 100%"
          }
        },
        "e66f1e328b95433b93031e78abcde51a": {
          "model_module": "@jupyter-widgets/controls",
          "model_name": "FloatProgressModel",
          "model_module_version": "1.5.0",
          "state": {
            "_dom_classes": [],
            "_model_module": "@jupyter-widgets/controls",
            "_model_module_version": "1.5.0",
            "_model_name": "FloatProgressModel",
            "_view_count": null,
            "_view_module": "@jupyter-widgets/controls",
            "_view_module_version": "1.5.0",
            "_view_name": "ProgressView",
            "bar_style": "success",
            "description": "",
            "description_tooltip": null,
            "layout": "IPY_MODEL_098d8b0a68d14ea481b317d9f37fbace",
            "max": 95,
            "min": 0,
            "orientation": "horizontal",
            "style": "IPY_MODEL_050ce74148f640349b3b6d93bd253ac3",
            "value": 95
          }
        },
        "5e75408ad42843068447dfc554eaafdc": {
          "model_module": "@jupyter-widgets/controls",
          "model_name": "HTMLModel",
          "model_module_version": "1.5.0",
          "state": {
            "_dom_classes": [],
            "_model_module": "@jupyter-widgets/controls",
            "_model_module_version": "1.5.0",
            "_model_name": "HTMLModel",
            "_view_count": null,
            "_view_module": "@jupyter-widgets/controls",
            "_view_module_version": "1.5.0",
            "_view_name": "HTMLView",
            "description": "",
            "description_tooltip": null,
            "layout": "IPY_MODEL_d18044dc049c49898afef887a5468a94",
            "placeholder": "​",
            "style": "IPY_MODEL_72ae05d49bc647a7989a859db4115a86",
            "value": " 95.0/95.0 [00:00&lt;00:00, 1.57kB/s]"
          }
        },
        "d85f5b711caf40fcb26a29ba9621ce8c": {
          "model_module": "@jupyter-widgets/base",
          "model_name": "LayoutModel",
          "model_module_version": "1.2.0",
          "state": {
            "_model_module": "@jupyter-widgets/base",
            "_model_module_version": "1.2.0",
            "_model_name": "LayoutModel",
            "_view_count": null,
            "_view_module": "@jupyter-widgets/base",
            "_view_module_version": "1.2.0",
            "_view_name": "LayoutView",
            "align_content": null,
            "align_items": null,
            "align_self": null,
            "border": null,
            "bottom": null,
            "display": null,
            "flex": null,
            "flex_flow": null,
            "grid_area": null,
            "grid_auto_columns": null,
            "grid_auto_flow": null,
            "grid_auto_rows": null,
            "grid_column": null,
            "grid_gap": null,
            "grid_row": null,
            "grid_template_areas": null,
            "grid_template_columns": null,
            "grid_template_rows": null,
            "height": null,
            "justify_content": null,
            "justify_items": null,
            "left": null,
            "margin": null,
            "max_height": null,
            "max_width": null,
            "min_height": null,
            "min_width": null,
            "object_fit": null,
            "object_position": null,
            "order": null,
            "overflow": null,
            "overflow_x": null,
            "overflow_y": null,
            "padding": null,
            "right": null,
            "top": null,
            "visibility": null,
            "width": null
          }
        },
        "11091733443643baa41f674e03280bb6": {
          "model_module": "@jupyter-widgets/base",
          "model_name": "LayoutModel",
          "model_module_version": "1.2.0",
          "state": {
            "_model_module": "@jupyter-widgets/base",
            "_model_module_version": "1.2.0",
            "_model_name": "LayoutModel",
            "_view_count": null,
            "_view_module": "@jupyter-widgets/base",
            "_view_module_version": "1.2.0",
            "_view_name": "LayoutView",
            "align_content": null,
            "align_items": null,
            "align_self": null,
            "border": null,
            "bottom": null,
            "display": null,
            "flex": null,
            "flex_flow": null,
            "grid_area": null,
            "grid_auto_columns": null,
            "grid_auto_flow": null,
            "grid_auto_rows": null,
            "grid_column": null,
            "grid_gap": null,
            "grid_row": null,
            "grid_template_areas": null,
            "grid_template_columns": null,
            "grid_template_rows": null,
            "height": null,
            "justify_content": null,
            "justify_items": null,
            "left": null,
            "margin": null,
            "max_height": null,
            "max_width": null,
            "min_height": null,
            "min_width": null,
            "object_fit": null,
            "object_position": null,
            "order": null,
            "overflow": null,
            "overflow_x": null,
            "overflow_y": null,
            "padding": null,
            "right": null,
            "top": null,
            "visibility": null,
            "width": null
          }
        },
        "c8aaa4fa11394f35b75c5a4bd193668f": {
          "model_module": "@jupyter-widgets/controls",
          "model_name": "DescriptionStyleModel",
          "model_module_version": "1.5.0",
          "state": {
            "_model_module": "@jupyter-widgets/controls",
            "_model_module_version": "1.5.0",
            "_model_name": "DescriptionStyleModel",
            "_view_count": null,
            "_view_module": "@jupyter-widgets/base",
            "_view_module_version": "1.2.0",
            "_view_name": "StyleView",
            "description_width": ""
          }
        },
        "098d8b0a68d14ea481b317d9f37fbace": {
          "model_module": "@jupyter-widgets/base",
          "model_name": "LayoutModel",
          "model_module_version": "1.2.0",
          "state": {
            "_model_module": "@jupyter-widgets/base",
            "_model_module_version": "1.2.0",
            "_model_name": "LayoutModel",
            "_view_count": null,
            "_view_module": "@jupyter-widgets/base",
            "_view_module_version": "1.2.0",
            "_view_name": "LayoutView",
            "align_content": null,
            "align_items": null,
            "align_self": null,
            "border": null,
            "bottom": null,
            "display": null,
            "flex": null,
            "flex_flow": null,
            "grid_area": null,
            "grid_auto_columns": null,
            "grid_auto_flow": null,
            "grid_auto_rows": null,
            "grid_column": null,
            "grid_gap": null,
            "grid_row": null,
            "grid_template_areas": null,
            "grid_template_columns": null,
            "grid_template_rows": null,
            "height": null,
            "justify_content": null,
            "justify_items": null,
            "left": null,
            "margin": null,
            "max_height": null,
            "max_width": null,
            "min_height": null,
            "min_width": null,
            "object_fit": null,
            "object_position": null,
            "order": null,
            "overflow": null,
            "overflow_x": null,
            "overflow_y": null,
            "padding": null,
            "right": null,
            "top": null,
            "visibility": null,
            "width": null
          }
        },
        "050ce74148f640349b3b6d93bd253ac3": {
          "model_module": "@jupyter-widgets/controls",
          "model_name": "ProgressStyleModel",
          "model_module_version": "1.5.0",
          "state": {
            "_model_module": "@jupyter-widgets/controls",
            "_model_module_version": "1.5.0",
            "_model_name": "ProgressStyleModel",
            "_view_count": null,
            "_view_module": "@jupyter-widgets/base",
            "_view_module_version": "1.2.0",
            "_view_name": "StyleView",
            "bar_color": null,
            "description_width": ""
          }
        },
        "d18044dc049c49898afef887a5468a94": {
          "model_module": "@jupyter-widgets/base",
          "model_name": "LayoutModel",
          "model_module_version": "1.2.0",
          "state": {
            "_model_module": "@jupyter-widgets/base",
            "_model_module_version": "1.2.0",
            "_model_name": "LayoutModel",
            "_view_count": null,
            "_view_module": "@jupyter-widgets/base",
            "_view_module_version": "1.2.0",
            "_view_name": "LayoutView",
            "align_content": null,
            "align_items": null,
            "align_self": null,
            "border": null,
            "bottom": null,
            "display": null,
            "flex": null,
            "flex_flow": null,
            "grid_area": null,
            "grid_auto_columns": null,
            "grid_auto_flow": null,
            "grid_auto_rows": null,
            "grid_column": null,
            "grid_gap": null,
            "grid_row": null,
            "grid_template_areas": null,
            "grid_template_columns": null,
            "grid_template_rows": null,
            "height": null,
            "justify_content": null,
            "justify_items": null,
            "left": null,
            "margin": null,
            "max_height": null,
            "max_width": null,
            "min_height": null,
            "min_width": null,
            "object_fit": null,
            "object_position": null,
            "order": null,
            "overflow": null,
            "overflow_x": null,
            "overflow_y": null,
            "padding": null,
            "right": null,
            "top": null,
            "visibility": null,
            "width": null
          }
        },
        "72ae05d49bc647a7989a859db4115a86": {
          "model_module": "@jupyter-widgets/controls",
          "model_name": "DescriptionStyleModel",
          "model_module_version": "1.5.0",
          "state": {
            "_model_module": "@jupyter-widgets/controls",
            "_model_module_version": "1.5.0",
            "_model_name": "DescriptionStyleModel",
            "_view_count": null,
            "_view_module": "@jupyter-widgets/base",
            "_view_module_version": "1.2.0",
            "_view_name": "StyleView",
            "description_width": ""
          }
        },
        "f3094dc7f21e45d9a55c17ae4b3eeec4": {
          "model_module": "@jupyter-widgets/controls",
          "model_name": "HBoxModel",
          "model_module_version": "1.5.0",
          "state": {
            "_dom_classes": [],
            "_model_module": "@jupyter-widgets/controls",
            "_model_module_version": "1.5.0",
            "_model_name": "HBoxModel",
            "_view_count": null,
            "_view_module": "@jupyter-widgets/controls",
            "_view_module_version": "1.5.0",
            "_view_name": "HBoxView",
            "box_style": "",
            "children": [
              "IPY_MODEL_4dea3aa3b7574427b0b3f2ae026b2291",
              "IPY_MODEL_0158ac1caf2747b78f1b6cbe978c4a53",
              "IPY_MODEL_ae7a06ee80fc4e2d9a3845b49d69610f"
            ],
            "layout": "IPY_MODEL_d6be2e479cdb4bd1bfc4fdaa9760a2c3"
          }
        },
        "4dea3aa3b7574427b0b3f2ae026b2291": {
          "model_module": "@jupyter-widgets/controls",
          "model_name": "HTMLModel",
          "model_module_version": "1.5.0",
          "state": {
            "_dom_classes": [],
            "_model_module": "@jupyter-widgets/controls",
            "_model_module_version": "1.5.0",
            "_model_name": "HTMLModel",
            "_view_count": null,
            "_view_module": "@jupyter-widgets/controls",
            "_view_module_version": "1.5.0",
            "_view_name": "HTMLView",
            "description": "",
            "description_tooltip": null,
            "layout": "IPY_MODEL_df3a02959a62495d9fe59f4493b00c0d",
            "placeholder": "​",
            "style": "IPY_MODEL_f1ee7561f260459395f99486ff03c1bf",
            "value": "Downloading (…)solve/main/vocab.txt: 100%"
          }
        },
        "0158ac1caf2747b78f1b6cbe978c4a53": {
          "model_module": "@jupyter-widgets/controls",
          "model_name": "FloatProgressModel",
          "model_module_version": "1.5.0",
          "state": {
            "_dom_classes": [],
            "_model_module": "@jupyter-widgets/controls",
            "_model_module_version": "1.5.0",
            "_model_name": "FloatProgressModel",
            "_view_count": null,
            "_view_module": "@jupyter-widgets/controls",
            "_view_module_version": "1.5.0",
            "_view_name": "ProgressView",
            "bar_style": "success",
            "description": "",
            "description_tooltip": null,
            "layout": "IPY_MODEL_fbefb1c2d29147ba91f419665ae3a451",
            "max": 93,
            "min": 0,
            "orientation": "horizontal",
            "style": "IPY_MODEL_b3e6688c3479413b83ab38ed507cac30",
            "value": 93
          }
        },
        "ae7a06ee80fc4e2d9a3845b49d69610f": {
          "model_module": "@jupyter-widgets/controls",
          "model_name": "HTMLModel",
          "model_module_version": "1.5.0",
          "state": {
            "_dom_classes": [],
            "_model_module": "@jupyter-widgets/controls",
            "_model_module_version": "1.5.0",
            "_model_name": "HTMLModel",
            "_view_count": null,
            "_view_module": "@jupyter-widgets/controls",
            "_view_module_version": "1.5.0",
            "_view_name": "HTMLView",
            "description": "",
            "description_tooltip": null,
            "layout": "IPY_MODEL_a10712199d3b40018c92bf947497fe38",
            "placeholder": "​",
            "style": "IPY_MODEL_0cecb946fc6b4d8089d7e640eebdd585",
            "value": " 93.0/93.0 [00:00&lt;00:00, 1.33kB/s]"
          }
        },
        "d6be2e479cdb4bd1bfc4fdaa9760a2c3": {
          "model_module": "@jupyter-widgets/base",
          "model_name": "LayoutModel",
          "model_module_version": "1.2.0",
          "state": {
            "_model_module": "@jupyter-widgets/base",
            "_model_module_version": "1.2.0",
            "_model_name": "LayoutModel",
            "_view_count": null,
            "_view_module": "@jupyter-widgets/base",
            "_view_module_version": "1.2.0",
            "_view_name": "LayoutView",
            "align_content": null,
            "align_items": null,
            "align_self": null,
            "border": null,
            "bottom": null,
            "display": null,
            "flex": null,
            "flex_flow": null,
            "grid_area": null,
            "grid_auto_columns": null,
            "grid_auto_flow": null,
            "grid_auto_rows": null,
            "grid_column": null,
            "grid_gap": null,
            "grid_row": null,
            "grid_template_areas": null,
            "grid_template_columns": null,
            "grid_template_rows": null,
            "height": null,
            "justify_content": null,
            "justify_items": null,
            "left": null,
            "margin": null,
            "max_height": null,
            "max_width": null,
            "min_height": null,
            "min_width": null,
            "object_fit": null,
            "object_position": null,
            "order": null,
            "overflow": null,
            "overflow_x": null,
            "overflow_y": null,
            "padding": null,
            "right": null,
            "top": null,
            "visibility": null,
            "width": null
          }
        },
        "df3a02959a62495d9fe59f4493b00c0d": {
          "model_module": "@jupyter-widgets/base",
          "model_name": "LayoutModel",
          "model_module_version": "1.2.0",
          "state": {
            "_model_module": "@jupyter-widgets/base",
            "_model_module_version": "1.2.0",
            "_model_name": "LayoutModel",
            "_view_count": null,
            "_view_module": "@jupyter-widgets/base",
            "_view_module_version": "1.2.0",
            "_view_name": "LayoutView",
            "align_content": null,
            "align_items": null,
            "align_self": null,
            "border": null,
            "bottom": null,
            "display": null,
            "flex": null,
            "flex_flow": null,
            "grid_area": null,
            "grid_auto_columns": null,
            "grid_auto_flow": null,
            "grid_auto_rows": null,
            "grid_column": null,
            "grid_gap": null,
            "grid_row": null,
            "grid_template_areas": null,
            "grid_template_columns": null,
            "grid_template_rows": null,
            "height": null,
            "justify_content": null,
            "justify_items": null,
            "left": null,
            "margin": null,
            "max_height": null,
            "max_width": null,
            "min_height": null,
            "min_width": null,
            "object_fit": null,
            "object_position": null,
            "order": null,
            "overflow": null,
            "overflow_x": null,
            "overflow_y": null,
            "padding": null,
            "right": null,
            "top": null,
            "visibility": null,
            "width": null
          }
        },
        "f1ee7561f260459395f99486ff03c1bf": {
          "model_module": "@jupyter-widgets/controls",
          "model_name": "DescriptionStyleModel",
          "model_module_version": "1.5.0",
          "state": {
            "_model_module": "@jupyter-widgets/controls",
            "_model_module_version": "1.5.0",
            "_model_name": "DescriptionStyleModel",
            "_view_count": null,
            "_view_module": "@jupyter-widgets/base",
            "_view_module_version": "1.2.0",
            "_view_name": "StyleView",
            "description_width": ""
          }
        },
        "fbefb1c2d29147ba91f419665ae3a451": {
          "model_module": "@jupyter-widgets/base",
          "model_name": "LayoutModel",
          "model_module_version": "1.2.0",
          "state": {
            "_model_module": "@jupyter-widgets/base",
            "_model_module_version": "1.2.0",
            "_model_name": "LayoutModel",
            "_view_count": null,
            "_view_module": "@jupyter-widgets/base",
            "_view_module_version": "1.2.0",
            "_view_name": "LayoutView",
            "align_content": null,
            "align_items": null,
            "align_self": null,
            "border": null,
            "bottom": null,
            "display": null,
            "flex": null,
            "flex_flow": null,
            "grid_area": null,
            "grid_auto_columns": null,
            "grid_auto_flow": null,
            "grid_auto_rows": null,
            "grid_column": null,
            "grid_gap": null,
            "grid_row": null,
            "grid_template_areas": null,
            "grid_template_columns": null,
            "grid_template_rows": null,
            "height": null,
            "justify_content": null,
            "justify_items": null,
            "left": null,
            "margin": null,
            "max_height": null,
            "max_width": null,
            "min_height": null,
            "min_width": null,
            "object_fit": null,
            "object_position": null,
            "order": null,
            "overflow": null,
            "overflow_x": null,
            "overflow_y": null,
            "padding": null,
            "right": null,
            "top": null,
            "visibility": null,
            "width": null
          }
        },
        "b3e6688c3479413b83ab38ed507cac30": {
          "model_module": "@jupyter-widgets/controls",
          "model_name": "ProgressStyleModel",
          "model_module_version": "1.5.0",
          "state": {
            "_model_module": "@jupyter-widgets/controls",
            "_model_module_version": "1.5.0",
            "_model_name": "ProgressStyleModel",
            "_view_count": null,
            "_view_module": "@jupyter-widgets/base",
            "_view_module_version": "1.2.0",
            "_view_name": "StyleView",
            "bar_color": null,
            "description_width": ""
          }
        },
        "a10712199d3b40018c92bf947497fe38": {
          "model_module": "@jupyter-widgets/base",
          "model_name": "LayoutModel",
          "model_module_version": "1.2.0",
          "state": {
            "_model_module": "@jupyter-widgets/base",
            "_model_module_version": "1.2.0",
            "_model_name": "LayoutModel",
            "_view_count": null,
            "_view_module": "@jupyter-widgets/base",
            "_view_module_version": "1.2.0",
            "_view_name": "LayoutView",
            "align_content": null,
            "align_items": null,
            "align_self": null,
            "border": null,
            "bottom": null,
            "display": null,
            "flex": null,
            "flex_flow": null,
            "grid_area": null,
            "grid_auto_columns": null,
            "grid_auto_flow": null,
            "grid_auto_rows": null,
            "grid_column": null,
            "grid_gap": null,
            "grid_row": null,
            "grid_template_areas": null,
            "grid_template_columns": null,
            "grid_template_rows": null,
            "height": null,
            "justify_content": null,
            "justify_items": null,
            "left": null,
            "margin": null,
            "max_height": null,
            "max_width": null,
            "min_height": null,
            "min_width": null,
            "object_fit": null,
            "object_position": null,
            "order": null,
            "overflow": null,
            "overflow_x": null,
            "overflow_y": null,
            "padding": null,
            "right": null,
            "top": null,
            "visibility": null,
            "width": null
          }
        },
        "0cecb946fc6b4d8089d7e640eebdd585": {
          "model_module": "@jupyter-widgets/controls",
          "model_name": "DescriptionStyleModel",
          "model_module_version": "1.5.0",
          "state": {
            "_model_module": "@jupyter-widgets/controls",
            "_model_module_version": "1.5.0",
            "_model_name": "DescriptionStyleModel",
            "_view_count": null,
            "_view_module": "@jupyter-widgets/base",
            "_view_module_version": "1.2.0",
            "_view_name": "StyleView",
            "description_width": ""
          }
        },
        "297a934846e0474bbcfc51e7b55923d7": {
          "model_module": "@jupyter-widgets/controls",
          "model_name": "HBoxModel",
          "model_module_version": "1.5.0",
          "state": {
            "_dom_classes": [],
            "_model_module": "@jupyter-widgets/controls",
            "_model_module_version": "1.5.0",
            "_model_name": "HBoxModel",
            "_view_count": null,
            "_view_module": "@jupyter-widgets/controls",
            "_view_module_version": "1.5.0",
            "_view_name": "HBoxView",
            "box_style": "",
            "children": [
              "IPY_MODEL_2dbbd2f64f434af4b13ffdac9711dc4a",
              "IPY_MODEL_cf19e20d02bb41d5b9c4b59506b54d48",
              "IPY_MODEL_5ccf0fee8e314d5da742f1966127e954"
            ],
            "layout": "IPY_MODEL_f057baf7fda145128171a31ed8ae334a"
          }
        },
        "2dbbd2f64f434af4b13ffdac9711dc4a": {
          "model_module": "@jupyter-widgets/controls",
          "model_name": "HTMLModel",
          "model_module_version": "1.5.0",
          "state": {
            "_dom_classes": [],
            "_model_module": "@jupyter-widgets/controls",
            "_model_module_version": "1.5.0",
            "_model_name": "HTMLModel",
            "_view_count": null,
            "_view_module": "@jupyter-widgets/controls",
            "_view_module_version": "1.5.0",
            "_view_name": "HTMLView",
            "description": "",
            "description_tooltip": null,
            "layout": "IPY_MODEL_4b4f824b801e4d8cb0107d640eefa3ae",
            "placeholder": "​",
            "style": "IPY_MODEL_e2ea960fb60f49fcb39dca2ca2b1d75e",
            "value": "Downloading (…)cial_tokens_map.json: 100%"
          }
        },
        "cf19e20d02bb41d5b9c4b59506b54d48": {
          "model_module": "@jupyter-widgets/controls",
          "model_name": "FloatProgressModel",
          "model_module_version": "1.5.0",
          "state": {
            "_dom_classes": [],
            "_model_module": "@jupyter-widgets/controls",
            "_model_module_version": "1.5.0",
            "_model_name": "FloatProgressModel",
            "_view_count": null,
            "_view_module": "@jupyter-widgets/controls",
            "_view_module_version": "1.5.0",
            "_view_name": "ProgressView",
            "bar_style": "success",
            "description": "",
            "description_tooltip": null,
            "layout": "IPY_MODEL_eb04a3de74134904b3e7ad76b1f2ab1b",
            "max": 125,
            "min": 0,
            "orientation": "horizontal",
            "style": "IPY_MODEL_df0476b26e5049f08c040f54282a15f8",
            "value": 125
          }
        },
        "5ccf0fee8e314d5da742f1966127e954": {
          "model_module": "@jupyter-widgets/controls",
          "model_name": "HTMLModel",
          "model_module_version": "1.5.0",
          "state": {
            "_dom_classes": [],
            "_model_module": "@jupyter-widgets/controls",
            "_model_module_version": "1.5.0",
            "_model_name": "HTMLModel",
            "_view_count": null,
            "_view_module": "@jupyter-widgets/controls",
            "_view_module_version": "1.5.0",
            "_view_name": "HTMLView",
            "description": "",
            "description_tooltip": null,
            "layout": "IPY_MODEL_d7ed65bc6d484f1ea94a9c6747bba480",
            "placeholder": "​",
            "style": "IPY_MODEL_a9402e7a845b405e976adae732bdd749",
            "value": " 125/125 [00:00&lt;00:00, 1.71kB/s]"
          }
        },
        "f057baf7fda145128171a31ed8ae334a": {
          "model_module": "@jupyter-widgets/base",
          "model_name": "LayoutModel",
          "model_module_version": "1.2.0",
          "state": {
            "_model_module": "@jupyter-widgets/base",
            "_model_module_version": "1.2.0",
            "_model_name": "LayoutModel",
            "_view_count": null,
            "_view_module": "@jupyter-widgets/base",
            "_view_module_version": "1.2.0",
            "_view_name": "LayoutView",
            "align_content": null,
            "align_items": null,
            "align_self": null,
            "border": null,
            "bottom": null,
            "display": null,
            "flex": null,
            "flex_flow": null,
            "grid_area": null,
            "grid_auto_columns": null,
            "grid_auto_flow": null,
            "grid_auto_rows": null,
            "grid_column": null,
            "grid_gap": null,
            "grid_row": null,
            "grid_template_areas": null,
            "grid_template_columns": null,
            "grid_template_rows": null,
            "height": null,
            "justify_content": null,
            "justify_items": null,
            "left": null,
            "margin": null,
            "max_height": null,
            "max_width": null,
            "min_height": null,
            "min_width": null,
            "object_fit": null,
            "object_position": null,
            "order": null,
            "overflow": null,
            "overflow_x": null,
            "overflow_y": null,
            "padding": null,
            "right": null,
            "top": null,
            "visibility": null,
            "width": null
          }
        },
        "4b4f824b801e4d8cb0107d640eefa3ae": {
          "model_module": "@jupyter-widgets/base",
          "model_name": "LayoutModel",
          "model_module_version": "1.2.0",
          "state": {
            "_model_module": "@jupyter-widgets/base",
            "_model_module_version": "1.2.0",
            "_model_name": "LayoutModel",
            "_view_count": null,
            "_view_module": "@jupyter-widgets/base",
            "_view_module_version": "1.2.0",
            "_view_name": "LayoutView",
            "align_content": null,
            "align_items": null,
            "align_self": null,
            "border": null,
            "bottom": null,
            "display": null,
            "flex": null,
            "flex_flow": null,
            "grid_area": null,
            "grid_auto_columns": null,
            "grid_auto_flow": null,
            "grid_auto_rows": null,
            "grid_column": null,
            "grid_gap": null,
            "grid_row": null,
            "grid_template_areas": null,
            "grid_template_columns": null,
            "grid_template_rows": null,
            "height": null,
            "justify_content": null,
            "justify_items": null,
            "left": null,
            "margin": null,
            "max_height": null,
            "max_width": null,
            "min_height": null,
            "min_width": null,
            "object_fit": null,
            "object_position": null,
            "order": null,
            "overflow": null,
            "overflow_x": null,
            "overflow_y": null,
            "padding": null,
            "right": null,
            "top": null,
            "visibility": null,
            "width": null
          }
        },
        "e2ea960fb60f49fcb39dca2ca2b1d75e": {
          "model_module": "@jupyter-widgets/controls",
          "model_name": "DescriptionStyleModel",
          "model_module_version": "1.5.0",
          "state": {
            "_model_module": "@jupyter-widgets/controls",
            "_model_module_version": "1.5.0",
            "_model_name": "DescriptionStyleModel",
            "_view_count": null,
            "_view_module": "@jupyter-widgets/base",
            "_view_module_version": "1.2.0",
            "_view_name": "StyleView",
            "description_width": ""
          }
        },
        "eb04a3de74134904b3e7ad76b1f2ab1b": {
          "model_module": "@jupyter-widgets/base",
          "model_name": "LayoutModel",
          "model_module_version": "1.2.0",
          "state": {
            "_model_module": "@jupyter-widgets/base",
            "_model_module_version": "1.2.0",
            "_model_name": "LayoutModel",
            "_view_count": null,
            "_view_module": "@jupyter-widgets/base",
            "_view_module_version": "1.2.0",
            "_view_name": "LayoutView",
            "align_content": null,
            "align_items": null,
            "align_self": null,
            "border": null,
            "bottom": null,
            "display": null,
            "flex": null,
            "flex_flow": null,
            "grid_area": null,
            "grid_auto_columns": null,
            "grid_auto_flow": null,
            "grid_auto_rows": null,
            "grid_column": null,
            "grid_gap": null,
            "grid_row": null,
            "grid_template_areas": null,
            "grid_template_columns": null,
            "grid_template_rows": null,
            "height": null,
            "justify_content": null,
            "justify_items": null,
            "left": null,
            "margin": null,
            "max_height": null,
            "max_width": null,
            "min_height": null,
            "min_width": null,
            "object_fit": null,
            "object_position": null,
            "order": null,
            "overflow": null,
            "overflow_x": null,
            "overflow_y": null,
            "padding": null,
            "right": null,
            "top": null,
            "visibility": null,
            "width": null
          }
        },
        "df0476b26e5049f08c040f54282a15f8": {
          "model_module": "@jupyter-widgets/controls",
          "model_name": "ProgressStyleModel",
          "model_module_version": "1.5.0",
          "state": {
            "_model_module": "@jupyter-widgets/controls",
            "_model_module_version": "1.5.0",
            "_model_name": "ProgressStyleModel",
            "_view_count": null,
            "_view_module": "@jupyter-widgets/base",
            "_view_module_version": "1.2.0",
            "_view_name": "StyleView",
            "bar_color": null,
            "description_width": ""
          }
        },
        "d7ed65bc6d484f1ea94a9c6747bba480": {
          "model_module": "@jupyter-widgets/base",
          "model_name": "LayoutModel",
          "model_module_version": "1.2.0",
          "state": {
            "_model_module": "@jupyter-widgets/base",
            "_model_module_version": "1.2.0",
            "_model_name": "LayoutModel",
            "_view_count": null,
            "_view_module": "@jupyter-widgets/base",
            "_view_module_version": "1.2.0",
            "_view_name": "LayoutView",
            "align_content": null,
            "align_items": null,
            "align_self": null,
            "border": null,
            "bottom": null,
            "display": null,
            "flex": null,
            "flex_flow": null,
            "grid_area": null,
            "grid_auto_columns": null,
            "grid_auto_flow": null,
            "grid_auto_rows": null,
            "grid_column": null,
            "grid_gap": null,
            "grid_row": null,
            "grid_template_areas": null,
            "grid_template_columns": null,
            "grid_template_rows": null,
            "height": null,
            "justify_content": null,
            "justify_items": null,
            "left": null,
            "margin": null,
            "max_height": null,
            "max_width": null,
            "min_height": null,
            "min_width": null,
            "object_fit": null,
            "object_position": null,
            "order": null,
            "overflow": null,
            "overflow_x": null,
            "overflow_y": null,
            "padding": null,
            "right": null,
            "top": null,
            "visibility": null,
            "width": null
          }
        },
        "a9402e7a845b405e976adae732bdd749": {
          "model_module": "@jupyter-widgets/controls",
          "model_name": "DescriptionStyleModel",
          "model_module_version": "1.5.0",
          "state": {
            "_model_module": "@jupyter-widgets/controls",
            "_model_module_version": "1.5.0",
            "_model_name": "DescriptionStyleModel",
            "_view_count": null,
            "_view_module": "@jupyter-widgets/base",
            "_view_module_version": "1.2.0",
            "_view_name": "StyleView",
            "description_width": ""
          }
        }
      }
    }
  },
  "nbformat": 4,
  "nbformat_minor": 0
}