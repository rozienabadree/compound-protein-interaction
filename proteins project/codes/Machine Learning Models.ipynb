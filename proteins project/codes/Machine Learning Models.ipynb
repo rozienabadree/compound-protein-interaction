{
 "cells": [
  {
   "cell_type": "markdown",
   "metadata": {},
   "source": [
    "# Machine Learning Models for CPI and binding affinity\n",
    "\n",
    "The identification of compound-protein interactions (CPIs) is a crucial step in the process of drug discovery.  Compounds and proteins do not simply interact, they bind at a particular strength known as binding affinity.  Since the laboratory determination of CPIs is costly and time-consuming, computer science has become a promising and efficient alternative for predicting novel interactions between compounds and proteins on a large scale.\n",
    "\n",
    "This notebook explores various machine learning models for predicting CPI interaction (the classification models) and binding affinity (the regression models).\n",
    "\n",
    "Enjoy."
   ]
  },
  {
   "cell_type": "markdown",
   "metadata": {
    "id": "dIRqTUTG9ZnL"
   },
   "source": [
    "## Part 1: Prepare the development environment."
   ]
  },
  {
   "cell_type": "code",
   "execution_count": 1,
   "metadata": {
    "id": "iDfi2lrJ_YFi"
   },
   "outputs": [],
   "source": [
    "from IPython.core.pylabtools import figsize\n",
    "import math\n",
    "import matplotlib.pyplot as plt\n",
    "%matplotlib inline\n",
    "import numpy as np\n",
    "import os\n",
    "import pandas as pd\n",
    "from rdkit import Chem\n",
    "from rdkit.Chem import AllChem\n",
    "from sklearn import linear_model, metrics\n",
    "from sklearn.ensemble import RandomForestRegressor, ExtraTreesRegressor, GradientBoostingRegressor\n",
    "from sklearn.linear_model import LinearRegression, Ridge, Lasso, ElasticNet, SGDRegressor, LogisticRegression, Perceptron\n",
    "from sklearn.model_selection import train_test_split,GridSearchCV, cross_val_score, cross_val_predict\n",
    "from sklearn.metrics import confusion_matrix, precision_score, recall_score, f1_score, roc_curve, roc_auc_score\n",
    "from sklearn.metrics import precision_recall_curve, classification_report, mean_squared_error, r2_score\n",
    "from sklearn.naive_bayes import GaussianNB, MultinomialNB\n",
    "from sklearn.neighbors import KNeighborsClassifier\n",
    "from sklearn.neural_network import MLPClassifier,MLPRegressor\n",
    "from sklearn.preprocessing import StandardScaler, PolynomialFeatures\n",
    "from sklearn.svm import SVR\n",
    "import time\n",
    "import warnings"
   ]
  },
  {
   "cell_type": "markdown",
   "metadata": {
    "id": "__plEbTx-swt"
   },
   "source": [
    "## Part 2: Tokenize the datasets (both compounds and proteins are trained with a language model to learn the dependencies between the amino acids) before training the machine learning models."
   ]
  },
  {
   "cell_type": "code",
   "execution_count": 2,
   "metadata": {
    "id": "Z3yLg5rmhonI"
   },
   "outputs": [],
   "source": [
    "def token(data):\n",
    "  model_checkpoint = \"facebook/esm2_t12_35M_UR50D\"\n",
    "  from transformers import AutoTokenizer\n",
    "  tokenizer = AutoTokenizer.from_pretrained(model_checkpoint)\n",
    "  y=data.iloc[:, -1]\n",
    "  print(\"labels:\", y.shape)\n",
    "# before alignment\n",
    "  fingerprint = []\n",
    "  adjacency = []\n",
    "  sequence = []\n",
    "  for i in range(len(data)):\n",
    "    compound, protein, interaction = data.iloc[i, :]\n",
    "\n",
    "    mol = Chem.AddHs(Chem.MolFromSmiles(compound))\n",
    "    adjacency.append( np.array(Chem.GetAdjacencyMatrix(mol)).flatten())\n",
    "    fingerprint.append(np.array([int(i) for i in AllChem.GetMorganFingerprintAsBitVect(mol, 2, nBits=1024, useChirality=True).ToBitString()]))\n",
    "    sequence.append( np.array(tokenizer(protein,padding='max_length')['input_ids']))\n",
    "# alignments\n",
    "  adjacency =pd.DataFrame(adjacency)\n",
    "  adjacency= adjacency.fillna(0)\n",
    "\n",
    "  sequence =pd.DataFrame(sequence)\n",
    "  sequence= sequence.fillna(0)\n",
    "# after alignments, combine different parts of data\n",
    "  fingerprint=pd.DataFrame(fingerprint)\n",
    "  X = pd.concat([fingerprint, adjacency,sequence], axis=1)\n",
    "  print(\"dataset:\", X.shape)\n",
    "  return X, y\n",
    "\n",
    "def token_simple(data):\n",
    "  model_checkpoint = \"facebook/esm2_t12_35M_UR50D\"\n",
    "  from transformers import AutoTokenizer\n",
    "  tokenizer = AutoTokenizer.from_pretrained(model_checkpoint)\n",
    "  y=data.iloc[:, -1]\n",
    "  print(\"labels:\", y.shape)\n",
    "# before alignment\n",
    "  fingerprint = []\n",
    "  sequence = []\n",
    "  for i in range(len(data)):\n",
    "    compound, protein, interaction = data.iloc[i, :]\n",
    "\n",
    "    mol = Chem.AddHs(Chem.MolFromSmiles(compound))\n",
    "    fingerprint.append(np.array([int(i) for i in AllChem.GetMorganFingerprintAsBitVect(mol, 2, nBits=1024, useChirality=True).ToBitString()]))\n",
    "    sequence.append( np.array(tokenizer(protein,padding='max_length')['input_ids']))\n",
    "# alignments\n",
    "  sequence =pd.DataFrame(sequence)\n",
    "  sequence= sequence.fillna(0)\n",
    "# after alignments, combine different parts of data\n",
    "  fingerprint=pd.DataFrame(fingerprint)\n",
    "  X = pd.concat([fingerprint, sequence], axis=1)\n",
    "  print(\"dataset:\", X.shape)\n",
    "  print(\"Number of positive/negative labels:\", y.value_counts())\n",
    "  return X, y\n",
    "\n",
    "def token_poly(data):\n",
    "  y=data.iloc[:, -1]\n",
    "  print(\"labels:\", y.shape)\n",
    "  fingerprint = []\n",
    "  for i in range(len(data)):\n",
    "    compound, protein, interaction = data.iloc[i, :]\n",
    "    mol = Chem.AddHs(Chem.MolFromSmiles(compound))\n",
    "    fingerprint.append(np.array([int(i) for i in AllChem.GetMorganFingerprintAsBitVect(mol, 2, nBits=64, useChirality=True).ToBitString()]))\n",
    "# after alignments\n",
    "  X=pd.DataFrame(fingerprint)\n",
    "  print(\"dataset:\", X.shape)\n",
    "  return X, y"
   ]
  },
  {
   "cell_type": "markdown",
   "metadata": {
    "id": "HBlOJuTf6V9z"
   },
   "source": [
    "### Future Work"
   ]
  },
  {
   "cell_type": "code",
   "execution_count": 3,
   "metadata": {
    "id": "FZchc7RNrF-x"
   },
   "outputs": [],
   "source": [
    "# apply different protein tokenization for different models\n",
    "ESM_models = ['facebook/esm2_t48_15B_UR50D', 'facebook/esm2_t36_3B_UR50D', 'facebook/esm2_t33_650M_UR50D', 'facebook/esm2_t30_150M_UR50D', 'facebook/esm2_t12_35M_UR50D', 'facebook/esm2_t6_8M_UR50D']\n",
    "\n",
    "# apply different fingerprint algorithms for the compounds \n",
    "fpgen1 = AllChem.GetRDKitFPGenerator()\n",
    "fpgen2 = AllChem.GetAtomPairGenerator()\n",
    "fpgen3 = AllChem.GetMorganGenerator(radius=2)\n",
    "\n",
    "# fairness: with different ratios of positive and negative samples for CPIs prediction.\n",
    "#dataset_0 = dataset.['interaction' = 0][0:1000]\n",
    "#dataset_1 = dataset.['interaction' = 1][0:1000]"
   ]
  },
  {
   "cell_type": "markdown",
   "metadata": {
    "id": "rnc_SpKG9vvc"
   },
   "source": [
    "##  Part 3: Supervised Models Comparison"
   ]
  },
  {
   "cell_type": "code",
   "execution_count": 4,
   "metadata": {},
   "outputs": [
    {
     "name": "stdout",
     "output_type": "stream",
     "text": [
      "C:\\Users\\rabin badree\\OneDrive\\Documents\\badreeRoziena\\machineLearning\\project\\github\\data\\csv\n"
     ]
    }
   ],
   "source": [
    "# change the directory to that of the CSV files.\n",
    "\n",
    "current = os.getcwd()\n",
    "os.chdir('../data/csv/')\n",
    "\n",
    "print(os.getcwd())"
   ]
  },
  {
   "cell_type": "markdown",
   "metadata": {
    "id": "WdYbslJanHRB"
   },
   "source": [
    "### 3.1 Regression models"
   ]
  },
  {
   "cell_type": "code",
   "execution_count": 5,
   "metadata": {
    "colab": {
     "base_uri": "https://localhost:8080/",
     "height": 403
    },
    "id": "3Hks4_EPrGHp",
    "outputId": "b0cb7632-69ba-4d9c-e8de-ccdb846a905d"
   },
   "outputs": [
    {
     "name": "stdout",
     "output_type": "stream",
     "text": [
      "labels: (11483,)\n",
      "dataset: (11483, 17654)\n"
     ]
    },
    {
     "name": "stderr",
     "output_type": "stream",
     "text": [
      "[Parallel(n_jobs=-1)]: Using backend ThreadingBackend with 4 concurrent workers.\n",
      "[Parallel(n_jobs=-1)]: Done  42 tasks      | elapsed:  1.9min\n",
      "[Parallel(n_jobs=-1)]: Done 192 tasks      | elapsed:  8.2min\n",
      "[Parallel(n_jobs=-1)]: Done 442 tasks      | elapsed: 18.9min\n",
      "[Parallel(n_jobs=-1)]: Done 500 out of 500 | elapsed: 21.3min finished\n",
      "[Parallel(n_jobs=4)]: Using backend ThreadingBackend with 4 concurrent workers.\n",
      "[Parallel(n_jobs=4)]: Done  42 tasks      | elapsed:    0.0s\n",
      "[Parallel(n_jobs=4)]: Done 192 tasks      | elapsed:    0.0s\n",
      "[Parallel(n_jobs=4)]: Done 442 tasks      | elapsed:    0.0s\n",
      "[Parallel(n_jobs=4)]: Done 500 out of 500 | elapsed:    0.1s finished\n"
     ]
    },
    {
     "data": {
      "text/html": [
       "<div>\n",
       "<style scoped>\n",
       "    .dataframe tbody tr th:only-of-type {\n",
       "        vertical-align: middle;\n",
       "    }\n",
       "\n",
       "    .dataframe tbody tr th {\n",
       "        vertical-align: top;\n",
       "    }\n",
       "\n",
       "    .dataframe thead th {\n",
       "        text-align: right;\n",
       "    }\n",
       "</style>\n",
       "<table border=\"1\" class=\"dataframe\">\n",
       "  <thead>\n",
       "    <tr style=\"text-align: right;\">\n",
       "      <th></th>\n",
       "      <th>Model</th>\n",
       "      <th>RMSE</th>\n",
       "      <th>R2 Score</th>\n",
       "    </tr>\n",
       "  </thead>\n",
       "  <tbody>\n",
       "    <tr>\n",
       "      <th>0</th>\n",
       "      <td>Ridge Linear Regression</td>\n",
       "      <td>1.830069</td>\n",
       "      <td>-0.437093</td>\n",
       "    </tr>\n",
       "    <tr>\n",
       "      <th>1</th>\n",
       "      <td>Lasso Linear Regression</td>\n",
       "      <td>0.997807</td>\n",
       "      <td>0.572788</td>\n",
       "    </tr>\n",
       "    <tr>\n",
       "      <th>2</th>\n",
       "      <td>Support Vector Machine (Gaussian RBF)</td>\n",
       "      <td>1.509745</td>\n",
       "      <td>0.021959</td>\n",
       "    </tr>\n",
       "    <tr>\n",
       "      <th>3</th>\n",
       "      <td>Random Forest</td>\n",
       "      <td>0.807928</td>\n",
       "      <td>0.719911</td>\n",
       "    </tr>\n",
       "  </tbody>\n",
       "</table>\n",
       "</div>"
      ],
      "text/plain": [
       "                                   Model      RMSE  R2 Score\n",
       "0                Ridge Linear Regression  1.830069 -0.437093\n",
       "1                Lasso Linear Regression  0.997807  0.572788\n",
       "2  Support Vector Machine (Gaussian RBF)  1.509745  0.021959\n",
       "3                          Random Forest  0.807928  0.719911"
      ]
     },
     "execution_count": 5,
     "metadata": {},
     "output_type": "execute_result"
    }
   ],
   "source": [
    "# data processing\n",
    "data = pd.read_csv('test_EC50.csv', header=None)\n",
    "X, y = token(data)\n",
    "X_train, X_test, y_train, y_test = train_test_split(X, y, test_size=0.2, random_state=0)\n",
    "\n",
    "# Ridge\n",
    "reg = linear_model.Ridge(alpha=.1)\n",
    "reg = reg.fit(X_train, y_train)\n",
    "y_pred = reg.predict(X_test)\n",
    "test_rmse_ridge=math.sqrt(mean_squared_error(y_test, y_pred))\n",
    "test_r2_ridge = r2_score(y_test, y_pred)\n",
    "\n",
    "# Lasso\n",
    "clf = linear_model.Lasso(alpha=.1)\n",
    "clf = clf.fit(X_train, y_train)\n",
    "y_pred = clf.predict(X_test)\n",
    "test_rmse_lasso=math.sqrt(mean_squared_error(y_test, y_pred))\n",
    "test_r2_lasso = r2_score(y_test, y_pred)\n",
    "\n",
    "# SVM\n",
    "svm = SVR(kernel='rbf',C=1000, gamma=0.1)\n",
    "svm.fit(X_train, y_train)\n",
    "y_test_predicted_svm = svm.predict(X_test)\n",
    "test_rmse_svm = math.sqrt(mean_squared_error(y_test, y_test_predicted_svm))\n",
    "test_r2_svm = r2_score(y_test, y_test_predicted_svm)\n",
    "\n",
    "# Random Forest\n",
    "rnd_forest_reg = RandomForestRegressor(n_estimators=500,  criterion='squared_error',max_features=\"auto\", verbose=1, max_depth=20, n_jobs=-1)\n",
    "rnd_forest_reg.fit(X_train, y_train)\n",
    "y_pred = rnd_forest_reg.predict(X_test)\n",
    "test_rmse_rf=math.sqrt(mean_squared_error(y_test, y_pred))\n",
    "test_r2_rf = r2_score(y_test, y_pred)\n",
    "\n",
    "data = [\n",
    "        [\"Ridge Linear Regression\", test_rmse_ridge, test_r2_ridge], \n",
    "        [\"Lasso Linear Regression\", test_rmse_lasso, test_r2_lasso],\n",
    "        [\"Support Vector Machine (Gaussian RBF)\", test_rmse_svm, test_r2_svm],\n",
    "        [\"Random Forest\", test_rmse_rf, test_r2_rf]\n",
    "       ]\n",
    "\n",
    "\n",
    "pd.DataFrame(data, columns=[\"Model\", \"RMSE\", \"R2 Score\"])"
   ]
  },
  {
   "cell_type": "code",
   "execution_count": 6,
   "metadata": {
    "colab": {
     "base_uri": "https://localhost:8080/",
     "height": 434
    },
    "id": "gvi4xcJzAJze",
    "outputId": "4a040337-5040-4f0d-8c51-e4b0782edf34"
   },
   "outputs": [
    {
     "name": "stdout",
     "output_type": "stream",
     "text": [
      "labels: (11483,)\n",
      "dataset: (11483, 2525)\n",
      "Number of positive/negative labels: 3.823909    480\n",
      "4.522879    256\n",
      "3.522879    189\n",
      "4.004365     71\n",
      "6.698970     64\n",
      "           ... \n",
      "5.527244      1\n",
      "4.870955      1\n",
      "4.668694      1\n",
      "4.099087      1\n",
      "4.549489      1\n",
      "Name: 2, Length: 4563, dtype: int64\n"
     ]
    },
    {
     "name": "stderr",
     "output_type": "stream",
     "text": [
      "[Parallel(n_jobs=-1)]: Using backend ThreadingBackend with 4 concurrent workers.\n",
      "[Parallel(n_jobs=-1)]: Done  42 tasks      | elapsed:   36.8s\n",
      "[Parallel(n_jobs=-1)]: Done 192 tasks      | elapsed:  2.7min\n",
      "[Parallel(n_jobs=-1)]: Done 442 tasks      | elapsed:  6.2min\n",
      "[Parallel(n_jobs=-1)]: Done 500 out of 500 | elapsed:  7.0min finished\n",
      "[Parallel(n_jobs=4)]: Using backend ThreadingBackend with 4 concurrent workers.\n",
      "[Parallel(n_jobs=4)]: Done  42 tasks      | elapsed:    0.0s\n",
      "[Parallel(n_jobs=4)]: Done 192 tasks      | elapsed:    0.0s\n",
      "[Parallel(n_jobs=4)]: Done 442 tasks      | elapsed:    0.0s\n",
      "[Parallel(n_jobs=4)]: Done 500 out of 500 | elapsed:    0.1s finished\n"
     ]
    },
    {
     "data": {
      "text/html": [
       "<div>\n",
       "<style scoped>\n",
       "    .dataframe tbody tr th:only-of-type {\n",
       "        vertical-align: middle;\n",
       "    }\n",
       "\n",
       "    .dataframe tbody tr th {\n",
       "        vertical-align: top;\n",
       "    }\n",
       "\n",
       "    .dataframe thead th {\n",
       "        text-align: right;\n",
       "    }\n",
       "</style>\n",
       "<table border=\"1\" class=\"dataframe\">\n",
       "  <thead>\n",
       "    <tr style=\"text-align: right;\">\n",
       "      <th></th>\n",
       "      <th>Model</th>\n",
       "      <th>RMSE</th>\n",
       "      <th>R2 Score</th>\n",
       "    </tr>\n",
       "  </thead>\n",
       "  <tbody>\n",
       "    <tr>\n",
       "      <th>0</th>\n",
       "      <td>Ridge Linear Regression</td>\n",
       "      <td>0.949984</td>\n",
       "      <td>0.590964</td>\n",
       "    </tr>\n",
       "    <tr>\n",
       "      <th>1</th>\n",
       "      <td>Lasso Linear Regression</td>\n",
       "      <td>1.013284</td>\n",
       "      <td>0.534638</td>\n",
       "    </tr>\n",
       "    <tr>\n",
       "      <th>2</th>\n",
       "      <td>Support Vector Machine (Gaussian RBF)</td>\n",
       "      <td>1.186531</td>\n",
       "      <td>0.361903</td>\n",
       "    </tr>\n",
       "    <tr>\n",
       "      <th>3</th>\n",
       "      <td>Random Forest</td>\n",
       "      <td>0.792437</td>\n",
       "      <td>0.715385</td>\n",
       "    </tr>\n",
       "    <tr>\n",
       "      <th>4</th>\n",
       "      <td>MLP</td>\n",
       "      <td>0.917291</td>\n",
       "      <td>0.618633</td>\n",
       "    </tr>\n",
       "  </tbody>\n",
       "</table>\n",
       "</div>"
      ],
      "text/plain": [
       "                                   Model      RMSE  R2 Score\n",
       "0                Ridge Linear Regression  0.949984  0.590964\n",
       "1                Lasso Linear Regression  1.013284  0.534638\n",
       "2  Support Vector Machine (Gaussian RBF)  1.186531  0.361903\n",
       "3                          Random Forest  0.792437  0.715385\n",
       "4                                    MLP  0.917291  0.618633"
      ]
     },
     "execution_count": 6,
     "metadata": {},
     "output_type": "execute_result"
    }
   ],
   "source": [
    "# data processing\n",
    "data = pd.read_csv('test_EC50.csv', header=None)\n",
    "data = data.sample(frac=1)\n",
    "X, y = token_simple(data)\n",
    "X_train, X_test, y_train, y_test = train_test_split(X, y, test_size=0.2, random_state=0)\n",
    "\n",
    "# Ridge\n",
    "reg = linear_model.Ridge(alpha=.1)\n",
    "reg = reg.fit(X_train, y_train)\n",
    "y_pred = reg.predict(X_test)\n",
    "test_rmse_ridge=math.sqrt(mean_squared_error(y_test, y_pred))\n",
    "test_r2_ridge = r2_score(y_test, y_pred)\n",
    "\n",
    "# Lasso\n",
    "clf = linear_model.Lasso(alpha=.1)\n",
    "clf = clf.fit(X_train, y_train)\n",
    "y_pred = clf.predict(X_test)\n",
    "test_rmse_lasso=math.sqrt(mean_squared_error(y_test, y_pred))\n",
    "test_r2_lasso = r2_score(y_test, y_pred)\n",
    "\n",
    "# SVM\n",
    "svm = SVR(kernel='rbf',C=1000, gamma=0.1)\n",
    "svm.fit(X_train, y_train)\n",
    "y_test_predicted_svm = svm.predict(X_test)\n",
    "test_rmse_svm = math.sqrt(mean_squared_error(y_test, y_test_predicted_svm))\n",
    "test_r2_svm = r2_score(y_test, y_test_predicted_svm)\n",
    "\n",
    "# Random Forest\n",
    "rnd_forest_reg = RandomForestRegressor(n_estimators=500,  criterion='squared_error',verbose=1, max_depth=20, n_jobs=-1)\n",
    "rnd_forest_reg.fit(X_train, y_train)\n",
    "y_pred = rnd_forest_reg.predict(X_test)\n",
    "test_rmse_rf=math.sqrt(mean_squared_error(y_test, y_pred))\n",
    "test_r2_rf = r2_score(y_test, y_pred)\n",
    "\n",
    "# MLP regressor\n",
    "MLP_reg = MLPRegressor(random_state=1, max_iter=500)\n",
    "MLP_reg.fit(X_train, y_train)\n",
    "y_pred = MLP_reg.predict(X_test)\n",
    "test_rmse_MLP=math.sqrt(mean_squared_error(y_test, y_pred))\n",
    "test_r2_MLP = r2_score(y_test, y_pred)\n",
    "\n",
    "data = [\n",
    "        [\"Ridge Linear Regression\", test_rmse_ridge, test_r2_ridge], \n",
    "        [\"Lasso Linear Regression\", test_rmse_lasso, test_r2_lasso],\n",
    "        [\"Support Vector Machine (Gaussian RBF)\", test_rmse_svm, test_r2_svm],\n",
    "        [\"Random Forest\", test_rmse_rf, test_r2_rf],\n",
    "        [\"MLP\",test_rmse_MLP, test_r2_MLP]\n",
    "       ]\n",
    "\n",
    "\n",
    "pd.DataFrame(data, columns=[\"Model\", \"RMSE\", \"R2 Score\"])"
   ]
  },
  {
   "cell_type": "markdown",
   "metadata": {
    "id": "SHVv5WDknTbc"
   },
   "source": [
    "### 3.2 Hyperparameter Tuning for Stochastic Gradient Descent"
   ]
  },
  {
   "cell_type": "code",
   "execution_count": 7,
   "metadata": {
    "colab": {
     "base_uri": "https://localhost:8080/"
    },
    "id": "3f_z_CcfJLe-",
    "outputId": "09082358-8154-4199-ae74-622e8a0ca0d6"
   },
   "outputs": [
    {
     "name": "stdout",
     "output_type": "stream",
     "text": [
      "Best Score in SGD: -248287785894435424.000000\n",
      "Optimal Hyperparameter Values in SGD:  {'alpha': 0.1, 'eta0': 0.0001, 'l1_ratio': 0.2, 'learning_rate': 'invscaling', 'max_iter': 100, 'penalty': 'l1'}\n",
      "\n",
      "\n",
      "Root Mean squared error in SGD: 486037551.49\n",
      "Coefficient of determination r^2 variance score [1 is perfect prediction] in SGD: -107070091888260864.00\n"
     ]
    }
   ],
   "source": [
    "# %%time\n",
    "warnings.filterwarnings('ignore')\n",
    "\n",
    "# The param_grid tells Scikit-Learn to evaluate all combinations of the hyperparameter values\n",
    "param_grid = {'alpha': [0.1, 0.01, 0.001], 'learning_rate': [\"constant\", \"optimal\", \"invscaling\"], \n",
    "              'l1_ratio': [1, 0.2, 0], 'max_iter':[100, 400, 1000],'eta0': [0.01, 0.001, 0.0001], 'penalty':['l2', 'l1', 'elasticnet']}\n",
    "\n",
    "sgd = SGDRegressor()\n",
    "sgd_cv = GridSearchCV(sgd, param_grid, cv=2, n_jobs=-1)\n",
    "sgd_cv.fit(X_train[:1000], y_train[:1000])\n",
    "\n",
    "params_optimal_sgd = sgd_cv.best_params_\n",
    "\n",
    "print(\"Best Score in SGD: %f\" % sgd_cv.best_score_)\n",
    "print(\"Optimal Hyperparameter Values in SGD: \", params_optimal_sgd)\n",
    "print(\"\\n\")\n",
    "\n",
    "# test the model\n",
    "lin_reg_sgd = SGDRegressor(**params_optimal_sgd)\n",
    "lin_reg_sgd.fit(X_train, y_train)\n",
    "y_test_predicted = lin_reg_sgd.predict(X_test)\n",
    "\n",
    "print(\"Root Mean squared error in SGD: %.2f\" %math.sqrt(mean_squared_error(y_test, y_test_predicted)))\n",
    "print(\"Coefficient of determination r^2 variance score [1 is perfect prediction] in SGD: %.2f\"  % r2_score(y_test, y_test_predicted))"
   ]
  },
  {
   "cell_type": "markdown",
   "metadata": {
    "id": "NjjBG2gCnbr2"
   },
   "source": [
    "### 3.3 Polynomial degree:  used to find out the coefficiency between binding affinity and drugs, which means a particular characteristic among drugs may play a significant role with regards to binding affinity no matter which protein is involved."
   ]
  },
  {
   "cell_type": "code",
   "execution_count": 8,
   "metadata": {
    "colab": {
     "base_uri": "https://localhost:8080/"
    },
    "id": "QH5277zwLRMT",
    "outputId": "805793c7-c7ff-4708-ab3f-ea6279466065"
   },
   "outputs": [
    {
     "name": "stdout",
     "output_type": "stream",
     "text": [
      "labels: (11483,)\n",
      "dataset: (11483, 64)\n",
      "Root Mean squared error for the coefficiency between binding affinity and drugs in SGD: 1.34\n",
      "No. of Original Features:  64\n",
      "No. of Augmented Features:  2145\n",
      "Root Mean squared error for the coefficiency between binding affinity and drugs in polynomial solution: 1.32\n"
     ]
    }
   ],
   "source": [
    "# data processing\n",
    "data = pd.read_csv('test_EC50.csv', header=None)\n",
    "X, y = token_poly(data)\n",
    "X_train, X_test, y_train, y_test = train_test_split(X, y, test_size=0.2, random_state=0)\n",
    "\n",
    "# SGD Regression\n",
    "lin_reg_sgd = SGDRegressor(max_iter=1000, eta0=0.01, penalty=\"elasticnet\", l1_ratio=0.0, alpha=0.01)\n",
    "lin_reg_sgd.fit(X_train.iloc[:,0:1024], y_train)\n",
    "y_train_predicted = lin_reg_sgd.predict(X_train.iloc[:,:1024])\n",
    "print(\"Root Mean squared error for the coefficiency between binding affinity and drugs in SGD: %.2f\" %math.sqrt(mean_squared_error(y_train, y_train_predicted)))\n",
    "\n",
    "# Add polynomial terms with the feature vector using the sklearn PolynomialFeatures class\n",
    "poly_features = PolynomialFeatures(2)\n",
    "X_train_poly = poly_features.fit_transform(X_train.iloc[:,:1024])\n",
    "print(\"No. of Original Features: \", X_train.iloc[:,:1024].shape[1])\n",
    "print(\"No. of Augmented Features: \", X_train_poly.shape[1])\n",
    "lin_reg_sgd.fit(X_train_poly, y_train)\n",
    "y_train_predicted = lin_reg_sgd.predict(X_train_poly)\n",
    "print(\"Root Mean squared error for the coefficiency between binding affinity and drugs in polynomial solution: %.2f\" %math.sqrt(mean_squared_error(y_train, y_train_predicted)))"
   ]
  },
  {
   "cell_type": "markdown",
   "metadata": {
    "id": "o7owQSaPJ_Eb"
   },
   "source": [
    "### Future Work: apply the optimized model on alternative datasets\n",
    "\n",
    "data = pd.read_csv('test_IC50.csv', header=None) <br>\n",
    "X, y = token(data) <br>\n",
    "X_train, X_test, y_train, y_test = train_test_split(X, y, test_size=0.2, random_state=0) <br>\n",
    "\n",
    "data = pd.read_csv('test_Kd.csv', header=None) <br>\n",
    "X, y = token(data) <br>\n",
    "X_train, X_test, y_train, y_test = train_test_split(X, y, test_size=0.2, random_state=0) <br>\n",
    "\n",
    "data = pd.read_csv('test_Ki.csv', header=None) <br>\n",
    "X, y = token(data) <br>\n",
    "X_train, X_test, y_train, y_test = train_test_split(X, y, test_size=0.2, random_state=0) <br>"
   ]
  },
  {
   "cell_type": "markdown",
   "metadata": {
    "id": "ujT4jGNu98jV"
   },
   "source": [
    "##  Part 4: Supervised Classification Models Comparison"
   ]
  },
  {
   "cell_type": "markdown",
   "metadata": {
    "id": "hO7kkQNQnsYW"
   },
   "source": [
    "### 4.1 Classification models"
   ]
  },
  {
   "cell_type": "code",
   "execution_count": 10,
   "metadata": {
    "colab": {
     "base_uri": "https://localhost:8080/"
    },
    "id": "8oyXFUS05w90",
    "outputId": "7d135997-ccf7-42f2-af7d-a8d795e95cd0"
   },
   "outputs": [
    {
     "name": "stdout",
     "output_type": "stream",
     "text": [
      "labels: (4696,)\n",
      "dataset: (4696, 9107)\n",
      "Number of positive/negative labels: 0    3913\n",
      "1     783\n",
      "Name: 2, dtype: int64\n",
      "Linear Regression 1776179733.4040291 -2.279233748622989e+19\n",
      "ElasticNet Regression 0.3720437127281885 -6.8743945949023555e-06\n",
      "Random Forest 0.20855225377154624 0.6857720434327579\n",
      "Extra Trees 0.192610288936638 0.7319757980115125\n",
      "SVM 0.2977222646970935 0.3596201265892437\n",
      "Gradient Boosted 0.27376878239529745 0.4585194080743834\n",
      "GaussianNB 0.40998183665008714 -0.21435112506541043\n",
      "MultinomialNB 0.518795659359456 -0.9444989534275241\n",
      "Logistic Regression 0.32288592281010975 0.24679487179487203\n",
      "Perceptron 0.7056006947456415 -2.596938775510203\n",
      "Multi-Layer Perceptron 0.40737875105178306 -0.1989795918367343\n",
      "                                     rmse                      r2\n",
      "Linear Regression       1776179733.404029 -22792337486229889024.0\n",
      "ElasticNet Regression            0.372044               -0.000007\n",
      "Random Forest                    0.208552                0.685772\n",
      "Extra Trees                       0.19261                0.731976\n",
      "SVM                              0.297722                 0.35962\n",
      "Gradient Boosted                 0.273769                0.458519\n",
      "GaussianNB                       0.409982               -0.214351\n",
      "MultinomialNB                    0.518796               -0.944499\n",
      "Logistic Regression              0.322886                0.246795\n",
      "Perceptron                       0.705601               -2.596939\n",
      "Multi-Layer Perceptron           0.407379                -0.19898\n"
     ]
    }
   ],
   "source": [
    "data = pd.read_csv('test_celegans.csv', header=None)\n",
    "#data = data.sample(frac=1)\n",
    "X, y = token_simple(data)\n",
    "X_train, X_test, y_train, y_test = train_test_split(X, y, test_size=0.2, random_state=0)\n",
    "\n",
    "def evaluate(X_train, X_test, y_train, y_test):\n",
    "    model_name_list = ['Linear Regression', 'ElasticNet Regression', 'Random Forest', 'Extra Trees', 'SVM',\n",
    "                       'Gradient Boosted','GaussianNB', 'MultinomialNB','Logistic Regression','Perceptron','Multi-Layer Perceptron']\n",
    "    \n",
    "    # Instantiate the models\n",
    "    model1 = LinearRegression()\n",
    "    model2 = ElasticNet(alpha=1.0, l1_ratio=0.5)\n",
    "    model3 = RandomForestRegressor(n_estimators=50)\n",
    "    model4 = ExtraTreesRegressor(n_estimators=50)\n",
    "    model5 = SVR(kernel='rbf', degree=3, C=1.0, gamma='auto')\n",
    "    model6 = GradientBoostingRegressor(n_estimators=20)\n",
    "    model7 = GaussianNB()\n",
    "    model8 = MultinomialNB(alpha=0.5)\n",
    "    model9 = LogisticRegression(solver='saga', random_state=0)\n",
    "    model10 = Perceptron(penalty='l2', alpha=.1)\n",
    "    model11 = MLPClassifier(random_state=42, hidden_layer_sizes=(3, ), alpha=0.01, max_iter=200,  activation='logistic')\n",
    "    \n",
    "    # Dataframe for results\n",
    "    results = pd.DataFrame(columns=['rmse', 'r2'], index = model_name_list)\n",
    "    \n",
    "    # Train and predict with each model\n",
    "    for i, model in enumerate([model1, model2, model3, model4, model5, model6,model7, model8, model9, model10, model11]):\n",
    "        model.fit(X_train, y_train)\n",
    "        predictions = model.predict(X_test)\n",
    "        # Metrics\n",
    "        rmse = np.sqrt(np.mean((predictions - y_test) ** 2))\n",
    "        r2 = r2_score(y_test, predictions)\n",
    "        print(model_name_list[i],rmse,r2)\n",
    "        # Insert results into the dataframe\n",
    "        model_name = model_name_list[i]\n",
    "        results.loc[model_name, :] = [rmse, r2]\n",
    "    return results\n",
    "\n",
    "results = evaluate(X_train, X_test, y_train, y_test)\n",
    "print(results)"
   ]
  },
  {
   "cell_type": "code",
   "execution_count": 12,
   "metadata": {
    "colab": {
     "base_uri": "https://localhost:8080/",
     "height": 789
    },
    "id": "XkRlmVTE7b_F",
    "outputId": "ad3b183a-ccb7-45c8-e09f-eafde786a394"
   },
   "outputs": [
    {
     "data": {
      "image/png": "[encoded data removed]",
      "text/plain": [
       "<Figure size 1200x800 with 2 Axes>"
      ]
     },
     "metadata": {},
     "output_type": "display_data"
    }
   ],
   "source": [
    "# plot the graph\n",
    "figsize(12, 8)\n",
    "plt.rcParams['font.size'] = 16\n",
    "results = results[1:11]\n",
    "\n",
    "# root mean squared error\n",
    "ax = plt.subplot(1, 2, 1)\n",
    "results.sort_values('rmse', ascending = True).plot.bar(y = 'rmse', color = 'g', ax = ax)\n",
    "plt.title('Root Mean Squared Error'); plt.ylabel('RMSE');\n",
    "\n",
    "# R2\n",
    "ax = plt.subplot(1, 2, 2)\n",
    "results.sort_values('r2', ascending = True).plot.bar(y = 'r2', color = 'b', ax = ax)\n",
    "plt.title('R2 score'); plt.ylabel('R2');\n",
    "\n",
    "plt.tight_layout()"
   ]
  },
  {
   "cell_type": "markdown",
   "metadata": {
    "id": "YJjGgcAVn1s4"
   },
   "source": [
    "### 4.2 KNN model with hyperparameter tuning and optimal tradeoff"
   ]
  },
  {
   "cell_type": "code",
   "execution_count": 14,
   "metadata": {
    "colab": {
     "base_uri": "https://localhost:8080/"
    },
    "id": "g2mkVUOwBJ5l",
    "outputId": "8e69615f-3808-440e-dd56-16fb9247eef4"
   },
   "outputs": [
    {
     "name": "stdout",
     "output_type": "stream",
     "text": [
      "Fitting 2 folds for each of 54 candidates, totalling 108 fits\n",
      "Best Score: 0.468750\n",
      "Optimal Hyperparameter Values:  {'n_neighbors': 9, 'p': 2, 'weights': 'distance'}\n",
      "\n",
      "\n",
      "\n",
      " RMSE:  0.3602599534260687\n",
      "confusion_matrix: [[752  32]\n",
      " [ 90  66]]\n",
      "Precision = 0.673469\n",
      "Recall = 0.423077\n",
      "F1 Score = 0.519685\n",
      "AUC: 0.6911302982731554\n",
      "AUC with predict_proba: 0.7206959706959708\n",
      "Wall time: 15min 55s\n"
     ]
    }
   ],
   "source": [
    "%%time\n",
    "\n",
    "warnings.filterwarnings('ignore')\n",
    "\n",
    "# The param_grid tells Scikit-Learn to evaluate all combinations of the hyperparameter values\n",
    "param_grid = {'n_neighbors': np.arange(1,10), 'p': [1, 2, 10], 'weights': [\"uniform\", \"distance\"]}\n",
    "\n",
    "knn_clf = KNeighborsClassifier()\n",
    "\n",
    "knn_cv = GridSearchCV(knn_clf, param_grid, scoring='f1', cv=2, verbose=3, n_jobs=-1)\n",
    "knn_cv.fit(X_train.iloc[0:1000], y_train.iloc[0:1000])\n",
    "\n",
    "\n",
    "params_optimal_knn = knn_cv.best_params_\n",
    "print(\"Best Score: %f\" % knn_cv.best_score_)\n",
    "print(\"Optimal Hyperparameter Values: \", params_optimal_knn)\n",
    "print(\"\\n\")\n",
    "\n",
    "knn = KNeighborsClassifier(**params_optimal_knn)\n",
    "y_test_pred = cross_val_predict(knn, X_test, y_test, cv=2)\n",
    "print(\"\\n RMSE: \", math.sqrt(mean_squared_error(y_test_pred,y_test)))\n",
    "print(\"confusion_matrix:\", confusion_matrix(y_test, y_test_pred))\n",
    "precision = precision_score(y_test, y_test_pred) \n",
    "print(\"Precision = %f\" % precision)\n",
    "recall = recall_score(y_test, y_test_pred)\n",
    "print(\"Recall = %f\" % recall)\n",
    "f1 = f1_score(y_test, y_test_pred)\n",
    "print(\"F1 Score = %f\" % f1)\n",
    "auc= roc_auc_score(y_test,y_test_pred)\n",
    "print(\"AUC:\",auc)\n",
    "y_scores = cross_val_predict(knn, X_test, y_test, method=\"predict_proba\", cv=2)[:, 1]\n",
    "auc= roc_auc_score(y_test,y_scores)\n",
    "print(\"AUC with predict_proba:\",auc)"
   ]
  },
  {
   "cell_type": "code",
   "execution_count": 15,
   "metadata": {
    "colab": {
     "base_uri": "https://localhost:8080/",
     "height": 586
    },
    "id": "Ux-avXSHmvFU",
    "outputId": "9bf4456f-facb-4ed2-bc33-7785134d48e9"
   },
   "outputs": [
    {
     "data": {
      "image/png": "[encoded data removed]",
      "text/plain": [
       "<Figure size 1000x600 with 1 Axes>"
      ]
     },
     "metadata": {},
     "output_type": "display_data"
    },
    {
     "name": "stdout",
     "output_type": "stream",
     "text": [
      "Optimal Threshold:  0.3313016237368413\n"
     ]
    }
   ],
   "source": [
    "# select the threshold value that gives the best precision/recall tradeoff for our problem\n",
    "\n",
    "plt.style.use('ggplot')\n",
    "\n",
    "# Get the 2nd column of the matrix of predicted probabilities for each data point\n",
    "# The 2nd column stores the probalities of the positive class\n",
    "y_scores = cross_val_predict(knn, X_train, y_train, method=\"predict_proba\", cv=2)[:, 1]\n",
    "\n",
    "precisions, recalls, thresholds = precision_recall_curve(y_train, y_scores)\n",
    "\n",
    "fig = plt.figure(figsize=(10, 6))\n",
    "def plot_precision_recall_vs_threshold(precisions, recalls, thresholds): \n",
    "    plt.plot(thresholds, precisions[:-1], \"b--\",  linewidth=8, label=\"Precision\") \n",
    "    plt.plot(thresholds, recalls[:-1], \"p-\",  linewidth=3, label=\"Recall\") \n",
    "    plt.xlabel(\"Threshold\")\n",
    "    plt.legend(loc=\"lower right\")\n",
    "    plt.title('Precision-Recall Curve')\n",
    "    #plt.xlim([0, 1])\n",
    "    plt.ylim([0, 1.1])\n",
    "\n",
    "plot_precision_recall_vs_threshold(precisions, recalls, thresholds)\n",
    "plt.show()\n",
    "\n",
    "threshold_optimal = -1\n",
    "for i in range(len(precisions)):\n",
    "    if(precisions[i] == recalls[i]):\n",
    "        threshold_optimal = thresholds[i]\n",
    "\n",
    "print(\"Optimal Threshold: \", threshold_optimal)"
   ]
  },
  {
   "cell_type": "markdown",
   "metadata": {
    "id": "PHF3Hhbp-LHC"
   },
   "source": [
    "## Part 5:  Unsupervised Learning Models for Classification"
   ]
  },
  {
   "cell_type": "code",
   "execution_count": 16,
   "metadata": {
    "colab": {
     "base_uri": "https://localhost:8080/",
     "height": 200,
     "referenced_widgets": [
      "ac4dc68daeaa4864b14e901b7da4a30b",
      "7d280cf014f0484191b00a3ce7514a96",
      "e66f1e328b95433b93031e78abcde51a",
      "5e75408ad42843068447dfc554eaafdc",
      "d85f5b711caf40fcb26a29ba9621ce8c",
      "11091733443643baa41f674e03280bb6",
      "c8aaa4fa11394f35b75c5a4bd193668f",
      "098d8b0a68d14ea481b317d9f37fbace",
      "050ce74148f640349b3b6d93bd253ac3",
      "d18044dc049c49898afef887a5468a94",
      "72ae05d49bc647a7989a859db4115a86",
      "f3094dc7f21e45d9a55c17ae4b3eeec4",
      "4dea3aa3b7574427b0b3f2ae026b2291",
      "0158ac1caf2747b78f1b6cbe978c4a53",
      "ae7a06ee80fc4e2d9a3845b49d69610f",
      "d6be2e479cdb4bd1bfc4fdaa9760a2c3",
      "df3a02959a62495d9fe59f4493b00c0d",
      "f1ee7561f260459395f99486ff03c1bf",
      "fbefb1c2d29147ba91f419665ae3a451",
      "b3e6688c3479413b83ab38ed507cac30",
      "a10712199d3b40018c92bf947497fe38",
      "0cecb946fc6b4d8089d7e640eebdd585",
      "297a934846e0474bbcfc51e7b55923d7",
      "2dbbd2f64f434af4b13ffdac9711dc4a",
      "cf19e20d02bb41d5b9c4b59506b54d48",
      "5ccf0fee8e314d5da742f1966127e954",
      "f057baf7fda145128171a31ed8ae334a",
      "4b4f824b801e4d8cb0107d640eefa3ae",
      "e2ea960fb60f49fcb39dca2ca2b1d75e",
      "eb04a3de74134904b3e7ad76b1f2ab1b",
      "df0476b26e5049f08c040f54282a15f8",
      "d7ed65bc6d484f1ea94a9c6747bba480",
      "a9402e7a845b405e976adae732bdd749"
     ]
    },
    "id": "oVrgtvIv79zC",
    "outputId": "74d3ecf7-2ea2-4b4f-dbb6-08098f28d985"
   },
   "outputs": [
    {
     "name": "stdout",
     "output_type": "stream",
     "text": [
      "labels: (4696,)\n",
      "dataset: (4696, 9107)\n",
      "Number of positive/negative labels: 0    3913\n",
      "1     783\n",
      "Name: 2, dtype: int64\n"
     ]
    }
   ],
   "source": [
    "# data processing\n",
    "data = pd.read_csv('test_celegans.csv', header=None)\n",
    "data = data.sample(frac=1)\n",
    "X, y = token_simple(data)"
   ]
  },
  {
   "cell_type": "code",
   "execution_count": 17,
   "metadata": {
    "colab": {
     "base_uri": "https://localhost:8080/"
    },
    "id": "juBhjJG8-SIa",
    "outputId": "61953042-0900-4137-80eb-8545238316c0"
   },
   "outputs": [
    {
     "name": "stdout",
     "output_type": "stream",
     "text": [
      "0    3913\n",
      "1     783\n",
      "Name: 2, dtype: int64\n",
      "3953 743\n",
      "LocalOutlierFactor result: 0.5033956247580561\n",
      "3217 1479\n",
      "KMeans result: 0.6290118260751694\n"
     ]
    }
   ],
   "source": [
    "print(y.value_counts())\n",
    "\n",
    "# Outlier\n",
    "from sklearn.neighbors import LocalOutlierFactor\n",
    "clf = LocalOutlierFactor(n_neighbors=2)\n",
    "y_pred = clf.fit_predict(X)\n",
    "print((y_pred==1).sum(),(y_pred==-1).sum())\n",
    "y_pred_update = np.where(y_pred==1,0,1)\n",
    "print(\"LocalOutlierFactor result:\", math.sqrt(mean_squared_error(y,y_pred_update)))\n",
    "\n",
    "# KMeans\n",
    "from sklearn.cluster import KMeans\n",
    "y_pred =KMeans(n_clusters=2, random_state=0).fit(X).labels_\n",
    "print((y_pred==1).sum(),(y_pred==0).sum())\n",
    "y_pred_update = np.where(y_pred==1,0,1)\n",
    "print(\"KMeans result:\", math.sqrt(mean_squared_error(y,y_pred_update)))"
   ]
  },
  {
   "cell_type": "code",
   "execution_count": 24,
   "metadata": {
    "colab": {
     "base_uri": "https://localhost:8080/"
    },
    "id": "-dOLl4ym77hH",
    "outputId": "299202c4-126b-4a39-994c-caa28e5865df"
   },
   "outputs": [
    {
     "name": "stdout",
     "output_type": "stream",
     "text": [
      "0 4696\n",
      "Affinity Propagation----Estimated number of clusters: 0\n",
      "Homogeneity: 0.000\n",
      "Completeness: 1.000\n",
      "V-measure: 0.000\n",
      "Adjusted Rand Index: 0.000\n",
      "Adjusted Mutual Information: -0.000\n"
     ]
    }
   ],
   "source": [
    "# Spectral Clustering\n",
    "#from sklearn.cluster import SpectralClustering\n",
    "#y_pred = SpectralClustering(n_clusters=2, random_state=0,assign_labels= 'cluster_qr', degree=1).fit(X).labels_\n",
    "#print((y_pred==1).sum(),(y_pred==0).sum())\n",
    "#y_pred_update = np.where(y_pred==1,0,1)\n",
    "#print(\"Spectral Clustering result:\", math.sqrt(mean_squared_error(y,y_pred_update)))\n",
    "\n",
    "# Affinity Propagation\n",
    "from sklearn.cluster import AffinityPropagation\n",
    "af = AffinityPropagation(random_state=0).fit(X)\n",
    "cluster_centers_indices = af.cluster_centers_indices_\n",
    "labels = af.labels_\n",
    "print((labels==1).sum(),(labels==-1).sum())\n",
    "labels = np.where(labels==1,0,1)\n",
    "n_clusters_ = len(cluster_centers_indices)\n",
    "print(\"Affinity Propagation----Estimated number of clusters: %d\" % n_clusters_)\n",
    "print(\"Homogeneity: %0.3f\" % metrics.homogeneity_score(y, labels))\n",
    "print(\"Completeness: %0.3f\" % metrics.completeness_score(y, labels))\n",
    "print(\"V-measure: %0.3f\" % metrics.v_measure_score(y, labels))\n",
    "print(\"Adjusted Rand Index: %0.3f\" % metrics.adjusted_rand_score(y, labels))\n",
    "print(\"Adjusted Mutual Information: %0.3f\" % metrics.adjusted_mutual_info_score(y, labels))"
   ]
  },
  {
   "cell_type": "code",
   "execution_count": null,
   "metadata": {},
   "outputs": [],
   "source": []
  }
 ],
 "metadata": {
  "colab": {
   "collapsed_sections": [
    "__plEbTx-swt",
    "yrpqYw8V5S_X"
   ],
   "provenance": []
  },
  "kernelspec": {
   "display_name": "Python 3 (ipykernel)",
   "language": "python",
   "name": "python3"
  },
  "language_info": {
   "codemirror_mode": {
    "name": "ipython",
    "version": 3
   },
   "file_extension": ".py",
   "mimetype": "text/x-python",
   "name": "python",
   "nbconvert_exporter": "python",
   "pygments_lexer": "ipython3",
   "version": "3.9.13"
  },
  "widgets": {
   "application/vnd.jupyter.widget-state+json": {
    "0158ac1caf2747b78f1b6cbe978c4a53": {
     "model_module": "@jupyter-widgets/controls",
     "model_module_version": "1.5.0",
     "model_name": "FloatProgressModel",
     "state": {
      "_dom_classes": [],
      "_model_module": "@jupyter-widgets/controls",
      "_model_module_version": "1.5.0",
      "_model_name": "FloatProgressModel",
      "_view_count": null,
      "_view_module": "@jupyter-widgets/controls",
      "_view_module_version": "1.5.0",
      "_view_name": "ProgressView",
      "bar_style": "success",
      "description": "",
      "description_tooltip": null,
      "layout": "IPY_MODEL_fbefb1c2d29147ba91f419665ae3a451",
      "max": 93,
      "min": 0,
      "orientation": "horizontal",
      "style": "IPY_MODEL_b3e6688c3479413b83ab38ed507cac30",
      "value": 93
     }
    },
    "050ce74148f640349b3b6d93bd253ac3": {
     "model_module": "@jupyter-widgets/controls",
     "model_module_version": "1.5.0",
     "model_name": "ProgressStyleModel",
     "state": {
      "_model_module": "@jupyter-widgets/controls",
      "_model_module_version": "1.5.0",
      "_model_name": "ProgressStyleModel",
      "_view_count": null,
      "_view_module": "@jupyter-widgets/base",
      "_view_module_version": "1.2.0",
      "_view_name": "StyleView",
      "bar_color": null,
      "description_width": ""
     }
    },
    "098d8b0a68d14ea481b317d9f37fbace": {
     "model_module": "@jupyter-widgets/base",
     "model_module_version": "1.2.0",
     "model_name": "LayoutModel",
     "state": {
      "_model_module": "@jupyter-widgets/base",
      "_model_module_version": "1.2.0",
      "_model_name": "LayoutModel",
      "_view_count": null,
      "_view_module": "@jupyter-widgets/base",
      "_view_module_version": "1.2.0",
      "_view_name": "LayoutView",
      "align_content": null,
      "align_items": null,
      "align_self": null,
      "border": null,
      "bottom": null,
      "display": null,
      "flex": null,
      "flex_flow": null,
      "grid_area": null,
      "grid_auto_columns": null,
      "grid_auto_flow": null,
      "grid_auto_rows": null,
      "grid_column": null,
      "grid_gap": null,
      "grid_row": null,
      "grid_template_areas": null,
      "grid_template_columns": null,
      "grid_template_rows": null,
      "height": null,
      "justify_content": null,
      "justify_items": null,
      "left": null,
      "margin": null,
      "max_height": null,
      "max_width": null,
      "min_height": null,
      "min_width": null,
      "object_fit": null,
      "object_position": null,
      "order": null,
      "overflow": null,
      "overflow_x": null,
      "overflow_y": null,
      "padding": null,
      "right": null,
      "top": null,
      "visibility": null,
      "width": null
     }
    },
    "0cecb946fc6b4d8089d7e640eebdd585": {
     "model_module": "@jupyter-widgets/controls",
     "model_module_version": "1.5.0",
     "model_name": "DescriptionStyleModel",
     "state": {
      "_model_module": "@jupyter-widgets/controls",
      "_model_module_version": "1.5.0",
      "_model_name": "DescriptionStyleModel",
      "_view_count": null,
      "_view_module": "@jupyter-widgets/base",
      "_view_module_version": "1.2.0",
      "_view_name": "StyleView",
      "description_width": ""
     }
    },
    "11091733443643baa41f674e03280bb6": {
     "model_module": "@jupyter-widgets/base",
     "model_module_version": "1.2.0",
     "model_name": "LayoutModel",
     "state": {
      "_model_module": "@jupyter-widgets/base",
      "_model_module_version": "1.2.0",
      "_model_name": "LayoutModel",
      "_view_count": null,
      "_view_module": "@jupyter-widgets/base",
      "_view_module_version": "1.2.0",
      "_view_name": "LayoutView",
      "align_content": null,
      "align_items": null,
      "align_self": null,
      "border": null,
      "bottom": null,
      "display": null,
      "flex": null,
      "flex_flow": null,
      "grid_area": null,
      "grid_auto_columns": null,
      "grid_auto_flow": null,
      "grid_auto_rows": null,
      "grid_column": null,
      "grid_gap": null,
      "grid_row": null,
      "grid_template_areas": null,
      "grid_template_columns": null,
      "grid_template_rows": null,
      "height": null,
      "justify_content": null,
      "justify_items": null,
      "left": null,
      "margin": null,
      "max_height": null,
      "max_width": null,
      "min_height": null,
      "min_width": null,
      "object_fit": null,
      "object_position": null,
      "order": null,
      "overflow": null,
      "overflow_x": null,
      "overflow_y": null,
      "padding": null,
      "right": null,
      "top": null,
      "visibility": null,
      "width": null
     }
    },
    "297a934846e0474bbcfc51e7b55923d7": {
     "model_module": "@jupyter-widgets/controls",
     "model_module_version": "1.5.0",
     "model_name": "HBoxModel",
     "state": {
      "_dom_classes": [],
      "_model_module": "@jupyter-widgets/controls",
      "_model_module_version": "1.5.0",
      "_model_name": "HBoxModel",
      "_view_count": null,
      "_view_module": "@jupyter-widgets/controls",
      "_view_module_version": "1.5.0",
      "_view_name": "HBoxView",
      "box_style": "",
      "children": [
       "IPY_MODEL_2dbbd2f64f434af4b13ffdac9711dc4a",
       "IPY_MODEL_cf19e20d02bb41d5b9c4b59506b54d48",
       "IPY_MODEL_5ccf0fee8e314d5da742f1966127e954"
      ],
      "layout": "IPY_MODEL_f057baf7fda145128171a31ed8ae334a"
     }
    },
    "2dbbd2f64f434af4b13ffdac9711dc4a": {
     "model_module": "@jupyter-widgets/controls",
     "model_module_version": "1.5.0",
     "model_name": "HTMLModel",
     "state": {
      "_dom_classes": [],
      "_model_module": "@jupyter-widgets/controls",
      "_model_module_version": "1.5.0",
      "_model_name": "HTMLModel",
      "_view_count": null,
      "_view_module": "@jupyter-widgets/controls",
      "_view_module_version": "1.5.0",
      "_view_name": "HTMLView",
      "description": "",
      "description_tooltip": null,
      "layout": "IPY_MODEL_4b4f824b801e4d8cb0107d640eefa3ae",
      "placeholder": "​",
      "style": "IPY_MODEL_e2ea960fb60f49fcb39dca2ca2b1d75e",
      "value": "Downloading (…)cial_tokens_map.json: 100%"
     }
    },
    "4b4f824b801e4d8cb0107d640eefa3ae": {
     "model_module": "@jupyter-widgets/base",
     "model_module_version": "1.2.0",
     "model_name": "LayoutModel",
     "state": {
      "_model_module": "@jupyter-widgets/base",
      "_model_module_version": "1.2.0",
      "_model_name": "LayoutModel",
      "_view_count": null,
      "_view_module": "@jupyter-widgets/base",
      "_view_module_version": "1.2.0",
      "_view_name": "LayoutView",
      "align_content": null,
      "align_items": null,
      "align_self": null,
      "border": null,
      "bottom": null,
      "display": null,
      "flex": null,
      "flex_flow": null,
      "grid_area": null,
      "grid_auto_columns": null,
      "grid_auto_flow": null,
      "grid_auto_rows": null,
      "grid_column": null,
      "grid_gap": null,
      "grid_row": null,
      "grid_template_areas": null,
      "grid_template_columns": null,
      "grid_template_rows": null,
      "height": null,
      "justify_content": null,
      "justify_items": null,
      "left": null,
      "margin": null,
      "max_height": null,
      "max_width": null,
      "min_height": null,
      "min_width": null,
      "object_fit": null,
      "object_position": null,
      "order": null,
      "overflow": null,
      "overflow_x": null,
      "overflow_y": null,
      "padding": null,
      "right": null,
      "top": null,
      "visibility": null,
      "width": null
     }
    },
    "4dea3aa3b7574427b0b3f2ae026b2291": {
     "model_module": "@jupyter-widgets/controls",
     "model_module_version": "1.5.0",
     "model_name": "HTMLModel",
     "state": {
      "_dom_classes": [],
      "_model_module": "@jupyter-widgets/controls",
      "_model_module_version": "1.5.0",
      "_model_name": "HTMLModel",
      "_view_count": null,
      "_view_module": "@jupyter-widgets/controls",
      "_view_module_version": "1.5.0",
      "_view_name": "HTMLView",
      "description": "",
      "description_tooltip": null,
      "layout": "IPY_MODEL_df3a02959a62495d9fe59f4493b00c0d",
      "placeholder": "​",
      "style": "IPY_MODEL_f1ee7561f260459395f99486ff03c1bf",
      "value": "Downloading (…)solve/main/vocab.txt: 100%"
     }
    },
    "5ccf0fee8e314d5da742f1966127e954": {
     "model_module": "@jupyter-widgets/controls",
     "model_module_version": "1.5.0",
     "model_name": "HTMLModel",
     "state": {
      "_dom_classes": [],
      "_model_module": "@jupyter-widgets/controls",
      "_model_module_version": "1.5.0",
      "_model_name": "HTMLModel",
      "_view_count": null,
      "_view_module": "@jupyter-widgets/controls",
      "_view_module_version": "1.5.0",
      "_view_name": "HTMLView",
      "description": "",
      "description_tooltip": null,
      "layout": "IPY_MODEL_d7ed65bc6d484f1ea94a9c6747bba480",
      "placeholder": "​",
      "style": "IPY_MODEL_a9402e7a845b405e976adae732bdd749",
      "value": " 125/125 [00:00&lt;00:00, 1.71kB/s]"
     }
    },
    "5e75408ad42843068447dfc554eaafdc": {
     "model_module": "@jupyter-widgets/controls",
     "model_module_version": "1.5.0",
     "model_name": "HTMLModel",
     "state": {
      "_dom_classes": [],
      "_model_module": "@jupyter-widgets/controls",
      "_model_module_version": "1.5.0",
      "_model_name": "HTMLModel",
      "_view_count": null,
      "_view_module": "@jupyter-widgets/controls",
      "_view_module_version": "1.5.0",
      "_view_name": "HTMLView",
      "description": "",
      "description_tooltip": null,
      "layout": "IPY_MODEL_d18044dc049c49898afef887a5468a94",
      "placeholder": "​",
      "style": "IPY_MODEL_72ae05d49bc647a7989a859db4115a86",
      "value": " 95.0/95.0 [00:00&lt;00:00, 1.57kB/s]"
     }
    },
    "72ae05d49bc647a7989a859db4115a86": {
     "model_module": "@jupyter-widgets/controls",
     "model_module_version": "1.5.0",
     "model_name": "DescriptionStyleModel",
     "state": {
      "_model_module": "@jupyter-widgets/controls",
      "_model_module_version": "1.5.0",
      "_model_name": "DescriptionStyleModel",
      "_view_count": null,
      "_view_module": "@jupyter-widgets/base",
      "_view_module_version": "1.2.0",
      "_view_name": "StyleView",
      "description_width": ""
     }
    },
    "7d280cf014f0484191b00a3ce7514a96": {
     "model_module": "@jupyter-widgets/controls",
     "model_module_version": "1.5.0",
     "model_name": "HTMLModel",
     "state": {
      "_dom_classes": [],
      "_model_module": "@jupyter-widgets/controls",
      "_model_module_version": "1.5.0",
      "_model_name": "HTMLModel",
      "_view_count": null,
      "_view_module": "@jupyter-widgets/controls",
      "_view_module_version": "1.5.0",
      "_view_name": "HTMLView",
      "description": "",
      "description_tooltip": null,
      "layout": "IPY_MODEL_11091733443643baa41f674e03280bb6",
      "placeholder": "​",
      "style": "IPY_MODEL_c8aaa4fa11394f35b75c5a4bd193668f",
      "value": "Downloading (…)okenizer_config.json: 100%"
     }
    },
    "a10712199d3b40018c92bf947497fe38": {
     "model_module": "@jupyter-widgets/base",
     "model_module_version": "1.2.0",
     "model_name": "LayoutModel",
     "state": {
      "_model_module": "@jupyter-widgets/base",
      "_model_module_version": "1.2.0",
      "_model_name": "LayoutModel",
      "_view_count": null,
      "_view_module": "@jupyter-widgets/base",
      "_view_module_version": "1.2.0",
      "_view_name": "LayoutView",
      "align_content": null,
      "align_items": null,
      "align_self": null,
      "border": null,
      "bottom": null,
      "display": null,
      "flex": null,
      "flex_flow": null,
      "grid_area": null,
      "grid_auto_columns": null,
      "grid_auto_flow": null,
      "grid_auto_rows": null,
      "grid_column": null,
      "grid_gap": null,
      "grid_row": null,
      "grid_template_areas": null,
      "grid_template_columns": null,
      "grid_template_rows": null,
      "height": null,
      "justify_content": null,
      "justify_items": null,
      "left": null,
      "margin": null,
      "max_height": null,
      "max_width": null,
      "min_height": null,
      "min_width": null,
      "object_fit": null,
      "object_position": null,
      "order": null,
      "overflow": null,
      "overflow_x": null,
      "overflow_y": null,
      "padding": null,
      "right": null,
      "top": null,
      "visibility": null,
      "width": null
     }
    },
    "a9402e7a845b405e976adae732bdd749": {
     "model_module": "@jupyter-widgets/controls",
     "model_module_version": "1.5.0",
     "model_name": "DescriptionStyleModel",
     "state": {
      "_model_module": "@jupyter-widgets/controls",
      "_model_module_version": "1.5.0",
      "_model_name": "DescriptionStyleModel",
      "_view_count": null,
      "_view_module": "@jupyter-widgets/base",
      "_view_module_version": "1.2.0",
      "_view_name": "StyleView",
      "description_width": ""
     }
    },
    "ac4dc68daeaa4864b14e901b7da4a30b": {
     "model_module": "@jupyter-widgets/controls",
     "model_module_version": "1.5.0",
     "model_name": "HBoxModel",
     "state": {
      "_dom_classes": [],
      "_model_module": "@jupyter-widgets/controls",
      "_model_module_version": "1.5.0",
      "_model_name": "HBoxModel",
      "_view_count": null,
      "_view_module": "@jupyter-widgets/controls",
      "_view_module_version": "1.5.0",
      "_view_name": "HBoxView",
      "box_style": "",
      "children": [
       "IPY_MODEL_7d280cf014f0484191b00a3ce7514a96",
       "IPY_MODEL_e66f1e328b95433b93031e78abcde51a",
       "IPY_MODEL_5e75408ad42843068447dfc554eaafdc"
      ],
      "layout": "IPY_MODEL_d85f5b711caf40fcb26a29ba9621ce8c"
     }
    },
    "ae7a06ee80fc4e2d9a3845b49d69610f": {
     "model_module": "@jupyter-widgets/controls",
     "model_module_version": "1.5.0",
     "model_name": "HTMLModel",
     "state": {
      "_dom_classes": [],
      "_model_module": "@jupyter-widgets/controls",
      "_model_module_version": "1.5.0",
      "_model_name": "HTMLModel",
      "_view_count": null,
      "_view_module": "@jupyter-widgets/controls",
      "_view_module_version": "1.5.0",
      "_view_name": "HTMLView",
      "description": "",
      "description_tooltip": null,
      "layout": "IPY_MODEL_a10712199d3b40018c92bf947497fe38",
      "placeholder": "​",
      "style": "IPY_MODEL_0cecb946fc6b4d8089d7e640eebdd585",
      "value": " 93.0/93.0 [00:00&lt;00:00, 1.33kB/s]"
     }
    },
    "b3e6688c3479413b83ab38ed507cac30": {
     "model_module": "@jupyter-widgets/controls",
     "model_module_version": "1.5.0",
     "model_name": "ProgressStyleModel",
     "state": {
      "_model_module": "@jupyter-widgets/controls",
      "_model_module_version": "1.5.0",
      "_model_name": "ProgressStyleModel",
      "_view_count": null,
      "_view_module": "@jupyter-widgets/base",
      "_view_module_version": "1.2.0",
      "_view_name": "StyleView",
      "bar_color": null,
      "description_width": ""
     }
    },
    "c8aaa4fa11394f35b75c5a4bd193668f": {
     "model_module": "@jupyter-widgets/controls",
     "model_module_version": "1.5.0",
     "model_name": "DescriptionStyleModel",
     "state": {
      "_model_module": "@jupyter-widgets/controls",
      "_model_module_version": "1.5.0",
      "_model_name": "DescriptionStyleModel",
      "_view_count": null,
      "_view_module": "@jupyter-widgets/base",
      "_view_module_version": "1.2.0",
      "_view_name": "StyleView",
      "description_width": ""
     }
    },
    "cf19e20d02bb41d5b9c4b59506b54d48": {
     "model_module": "@jupyter-widgets/controls",
     "model_module_version": "1.5.0",
     "model_name": "FloatProgressModel",
     "state": {
      "_dom_classes": [],
      "_model_module": "@jupyter-widgets/controls",
      "_model_module_version": "1.5.0",
      "_model_name": "FloatProgressModel",
      "_view_count": null,
      "_view_module": "@jupyter-widgets/controls",
      "_view_module_version": "1.5.0",
      "_view_name": "ProgressView",
      "bar_style": "success",
      "description": "",
      "description_tooltip": null,
      "layout": "IPY_MODEL_eb04a3de74134904b3e7ad76b1f2ab1b",
      "max": 125,
      "min": 0,
      "orientation": "horizontal",
      "style": "IPY_MODEL_df0476b26e5049f08c040f54282a15f8",
      "value": 125
     }
    },
    "d18044dc049c49898afef887a5468a94": {
     "model_module": "@jupyter-widgets/base",
     "model_module_version": "1.2.0",
     "model_name": "LayoutModel",
     "state": {
      "_model_module": "@jupyter-widgets/base",
      "_model_module_version": "1.2.0",
      "_model_name": "LayoutModel",
      "_view_count": null,
      "_view_module": "@jupyter-widgets/base",
      "_view_module_version": "1.2.0",
      "_view_name": "LayoutView",
      "align_content": null,
      "align_items": null,
      "align_self": null,
      "border": null,
      "bottom": null,
      "display": null,
      "flex": null,
      "flex_flow": null,
      "grid_area": null,
      "grid_auto_columns": null,
      "grid_auto_flow": null,
      "grid_auto_rows": null,
      "grid_column": null,
      "grid_gap": null,
      "grid_row": null,
      "grid_template_areas": null,
      "grid_template_columns": null,
      "grid_template_rows": null,
      "height": null,
      "justify_content": null,
      "justify_items": null,
      "left": null,
      "margin": null,
      "max_height": null,
      "max_width": null,
      "min_height": null,
      "min_width": null,
      "object_fit": null,
      "object_position": null,
      "order": null,
      "overflow": null,
      "overflow_x": null,
      "overflow_y": null,
      "padding": null,
      "right": null,
      "top": null,
      "visibility": null,
      "width": null
     }
    },
    "d6be2e479cdb4bd1bfc4fdaa9760a2c3": {
     "model_module": "@jupyter-widgets/base",
     "model_module_version": "1.2.0",
     "model_name": "LayoutModel",
     "state": {
      "_model_module": "@jupyter-widgets/base",
      "_model_module_version": "1.2.0",
      "_model_name": "LayoutModel",
      "_view_count": null,
      "_view_module": "@jupyter-widgets/base",
      "_view_module_version": "1.2.0",
      "_view_name": "LayoutView",
      "align_content": null,
      "align_items": null,
      "align_self": null,
      "border": null,
      "bottom": null,
      "display": null,
      "flex": null,
      "flex_flow": null,
      "grid_area": null,
      "grid_auto_columns": null,
      "grid_auto_flow": null,
      "grid_auto_rows": null,
      "grid_column": null,
      "grid_gap": null,
      "grid_row": null,
      "grid_template_areas": null,
      "grid_template_columns": null,
      "grid_template_rows": null,
      "height": null,
      "justify_content": null,
      "justify_items": null,
      "left": null,
      "margin": null,
      "max_height": null,
      "max_width": null,
      "min_height": null,
      "min_width": null,
      "object_fit": null,
      "object_position": null,
      "order": null,
      "overflow": null,
      "overflow_x": null,
      "overflow_y": null,
      "padding": null,
      "right": null,
      "top": null,
      "visibility": null,
      "width": null
     }
    },
    "d7ed65bc6d484f1ea94a9c6747bba480": {
     "model_module": "@jupyter-widgets/base",
     "model_module_version": "1.2.0",
     "model_name": "LayoutModel",
     "state": {
      "_model_module": "@jupyter-widgets/base",
      "_model_module_version": "1.2.0",
      "_model_name": "LayoutModel",
      "_view_count": null,
      "_view_module": "@jupyter-widgets/base",
      "_view_module_version": "1.2.0",
      "_view_name": "LayoutView",
      "align_content": null,
      "align_items": null,
      "align_self": null,
      "border": null,
      "bottom": null,
      "display": null,
      "flex": null,
      "flex_flow": null,
      "grid_area": null,
      "grid_auto_columns": null,
      "grid_auto_flow": null,
      "grid_auto_rows": null,
      "grid_column": null,
      "grid_gap": null,
      "grid_row": null,
      "grid_template_areas": null,
      "grid_template_columns": null,
      "grid_template_rows": null,
      "height": null,
      "justify_content": null,
      "justify_items": null,
      "left": null,
      "margin": null,
      "max_height": null,
      "max_width": null,
      "min_height": null,
      "min_width": null,
      "object_fit": null,
      "object_position": null,
      "order": null,
      "overflow": null,
      "overflow_x": null,
      "overflow_y": null,
      "padding": null,
      "right": null,
      "top": null,
      "visibility": null,
      "width": null
     }
    },
    "d85f5b711caf40fcb26a29ba9621ce8c": {
     "model_module": "@jupyter-widgets/base",
     "model_module_version": "1.2.0",
     "model_name": "LayoutModel",
     "state": {
      "_model_module": "@jupyter-widgets/base",
      "_model_module_version": "1.2.0",
      "_model_name": "LayoutModel",
      "_view_count": null,
      "_view_module": "@jupyter-widgets/base",
      "_view_module_version": "1.2.0",
      "_view_name": "LayoutView",
      "align_content": null,
      "align_items": null,
      "align_self": null,
      "border": null,
      "bottom": null,
      "display": null,
      "flex": null,
      "flex_flow": null,
      "grid_area": null,
      "grid_auto_columns": null,
      "grid_auto_flow": null,
      "grid_auto_rows": null,
      "grid_column": null,
      "grid_gap": null,
      "grid_row": null,
      "grid_template_areas": null,
      "grid_template_columns": null,
      "grid_template_rows": null,
      "height": null,
      "justify_content": null,
      "justify_items": null,
      "left": null,
      "margin": null,
      "max_height": null,
      "max_width": null,
      "min_height": null,
      "min_width": null,
      "object_fit": null,
      "object_position": null,
      "order": null,
      "overflow": null,
      "overflow_x": null,
      "overflow_y": null,
      "padding": null,
      "right": null,
      "top": null,
      "visibility": null,
      "width": null
     }
    },
    "df0476b26e5049f08c040f54282a15f8": {
     "model_module": "@jupyter-widgets/controls",
     "model_module_version": "1.5.0",
     "model_name": "ProgressStyleModel",
     "state": {
      "_model_module": "@jupyter-widgets/controls",
      "_model_module_version": "1.5.0",
      "_model_name": "ProgressStyleModel",
      "_view_count": null,
      "_view_module": "@jupyter-widgets/base",
      "_view_module_version": "1.2.0",
      "_view_name": "StyleView",
      "bar_color": null,
      "description_width": ""
     }
    },
    "df3a02959a62495d9fe59f4493b00c0d": {
     "model_module": "@jupyter-widgets/base",
     "model_module_version": "1.2.0",
     "model_name": "LayoutModel",
     "state": {
      "_model_module": "@jupyter-widgets/base",
      "_model_module_version": "1.2.0",
      "_model_name": "LayoutModel",
      "_view_count": null,
      "_view_module": "@jupyter-widgets/base",
      "_view_module_version": "1.2.0",
      "_view_name": "LayoutView",
      "align_content": null,
      "align_items": null,
      "align_self": null,
      "border": null,
      "bottom": null,
      "display": null,
      "flex": null,
      "flex_flow": null,
      "grid_area": null,
      "grid_auto_columns": null,
      "grid_auto_flow": null,
      "grid_auto_rows": null,
      "grid_column": null,
      "grid_gap": null,
      "grid_row": null,
      "grid_template_areas": null,
      "grid_template_columns": null,
      "grid_template_rows": null,
      "height": null,
      "justify_content": null,
      "justify_items": null,
      "left": null,
      "margin": null,
      "max_height": null,
      "max_width": null,
      "min_height": null,
      "min_width": null,
      "object_fit": null,
      "object_position": null,
      "order": null,
      "overflow": null,
      "overflow_x": null,
      "overflow_y": null,
      "padding": null,
      "right": null,
      "top": null,
      "visibility": null,
      "width": null
     }
    },
    "e2ea960fb60f49fcb39dca2ca2b1d75e": {
     "model_module": "@jupyter-widgets/controls",
     "model_module_version": "1.5.0",
     "model_name": "DescriptionStyleModel",
     "state": {
      "_model_module": "@jupyter-widgets/controls",
      "_model_module_version": "1.5.0",
      "_model_name": "DescriptionStyleModel",
      "_view_count": null,
      "_view_module": "@jupyter-widgets/base",
      "_view_module_version": "1.2.0",
      "_view_name": "StyleView",
      "description_width": ""
     }
    },
    "e66f1e328b95433b93031e78abcde51a": {
     "model_module": "@jupyter-widgets/controls",
     "model_module_version": "1.5.0",
     "model_name": "FloatProgressModel",
     "state": {
      "_dom_classes": [],
      "_model_module": "@jupyter-widgets/controls",
      "_model_module_version": "1.5.0",
      "_model_name": "FloatProgressModel",
      "_view_count": null,
      "_view_module": "@jupyter-widgets/controls",
      "_view_module_version": "1.5.0",
      "_view_name": "ProgressView",
      "bar_style": "success",
      "description": "",
      "description_tooltip": null,
      "layout": "IPY_MODEL_098d8b0a68d14ea481b317d9f37fbace",
      "max": 95,
      "min": 0,
      "orientation": "horizontal",
      "style": "IPY_MODEL_050ce74148f640349b3b6d93bd253ac3",
      "value": 95
     }
    },
    "eb04a3de74134904b3e7ad76b1f2ab1b": {
     "model_module": "@jupyter-widgets/base",
     "model_module_version": "1.2.0",
     "model_name": "LayoutModel",
     "state": {
      "_model_module": "@jupyter-widgets/base",
      "_model_module_version": "1.2.0",
      "_model_name": "LayoutModel",
      "_view_count": null,
      "_view_module": "@jupyter-widgets/base",
      "_view_module_version": "1.2.0",
      "_view_name": "LayoutView",
      "align_content": null,
      "align_items": null,
      "align_self": null,
      "border": null,
      "bottom": null,
      "display": null,
      "flex": null,
      "flex_flow": null,
      "grid_area": null,
      "grid_auto_columns": null,
      "grid_auto_flow": null,
      "grid_auto_rows": null,
      "grid_column": null,
      "grid_gap": null,
      "grid_row": null,
      "grid_template_areas": null,
      "grid_template_columns": null,
      "grid_template_rows": null,
      "height": null,
      "justify_content": null,
      "justify_items": null,
      "left": null,
      "margin": null,
      "max_height": null,
      "max_width": null,
      "min_height": null,
      "min_width": null,
      "object_fit": null,
      "object_position": null,
      "order": null,
      "overflow": null,
      "overflow_x": null,
      "overflow_y": null,
      "padding": null,
      "right": null,
      "top": null,
      "visibility": null,
      "width": null
     }
    },
    "f057baf7fda145128171a31ed8ae334a": {
     "model_module": "@jupyter-widgets/base",
     "model_module_version": "1.2.0",
     "model_name": "LayoutModel",
     "state": {
      "_model_module": "@jupyter-widgets/base",
      "_model_module_version": "1.2.0",
      "_model_name": "LayoutModel",
      "_view_count": null,
      "_view_module": "@jupyter-widgets/base",
      "_view_module_version": "1.2.0",
      "_view_name": "LayoutView",
      "align_content": null,
      "align_items": null,
      "align_self": null,
      "border": null,
      "bottom": null,
      "display": null,
      "flex": null,
      "flex_flow": null,
      "grid_area": null,
      "grid_auto_columns": null,
      "grid_auto_flow": null,
      "grid_auto_rows": null,
      "grid_column": null,
      "grid_gap": null,
      "grid_row": null,
      "grid_template_areas": null,
      "grid_template_columns": null,
      "grid_template_rows": null,
      "height": null,
      "justify_content": null,
      "justify_items": null,
      "left": null,
      "margin": null,
      "max_height": null,
      "max_width": null,
      "min_height": null,
      "min_width": null,
      "object_fit": null,
      "object_position": null,
      "order": null,
      "overflow": null,
      "overflow_x": null,
      "overflow_y": null,
      "padding": null,
      "right": null,
      "top": null,
      "visibility": null,
      "width": null
     }
    },
    "f1ee7561f260459395f99486ff03c1bf": {
     "model_module": "@jupyter-widgets/controls",
     "model_module_version": "1.5.0",
     "model_name": "DescriptionStyleModel",
     "state": {
      "_model_module": "@jupyter-widgets/controls",
      "_model_module_version": "1.5.0",
      "_model_name": "DescriptionStyleModel",
      "_view_count": null,
      "_view_module": "@jupyter-widgets/base",
      "_view_module_version": "1.2.0",
      "_view_name": "StyleView",
      "description_width": ""
     }
    },
    "f3094dc7f21e45d9a55c17ae4b3eeec4": {
     "model_module": "@jupyter-widgets/controls",
     "model_module_version": "1.5.0",
     "model_name": "HBoxModel",
     "state": {
      "_dom_classes": [],
      "_model_module": "@jupyter-widgets/controls",
      "_model_module_version": "1.5.0",
      "_model_name": "HBoxModel",
      "_view_count": null,
      "_view_module": "@jupyter-widgets/controls",
      "_view_module_version": "1.5.0",
      "_view_name": "HBoxView",
      "box_style": "",
      "children": [
       "IPY_MODEL_4dea3aa3b7574427b0b3f2ae026b2291",
       "IPY_MODEL_0158ac1caf2747b78f1b6cbe978c4a53",
       "IPY_MODEL_ae7a06ee80fc4e2d9a3845b49d69610f"
      ],
      "layout": "IPY_MODEL_d6be2e479cdb4bd1bfc4fdaa9760a2c3"
     }
    },
    "fbefb1c2d29147ba91f419665ae3a451": {
     "model_module": "@jupyter-widgets/base",
     "model_module_version": "1.2.0",
     "model_name": "LayoutModel",
     "state": {
      "_model_module": "@jupyter-widgets/base",
      "_model_module_version": "1.2.0",
      "_model_name": "LayoutModel",
      "_view_count": null,
      "_view_module": "@jupyter-widgets/base",
      "_view_module_version": "1.2.0",
      "_view_name": "LayoutView",
      "align_content": null,
      "align_items": null,
      "align_self": null,
      "border": null,
      "bottom": null,
      "display": null,
      "flex": null,
      "flex_flow": null,
      "grid_area": null,
      "grid_auto_columns": null,
      "grid_auto_flow": null,
      "grid_auto_rows": null,
      "grid_column": null,
      "grid_gap": null,
      "grid_row": null,
      "grid_template_areas": null,
      "grid_template_columns": null,
      "grid_template_rows": null,
      "height": null,
      "justify_content": null,
      "justify_items": null,
      "left": null,
      "margin": null,
      "max_height": null,
      "max_width": null,
      "min_height": null,
      "min_width": null,
      "object_fit": null,
      "object_position": null,
      "order": null,
      "overflow": null,
      "overflow_x": null,
      "overflow_y": null,
      "padding": null,
      "right": null,
      "top": null,
      "visibility": null,
      "width": null
     }
    }
   }
  }
 },
 "nbformat": 4,
 "nbformat_minor": 1
}
